{
 "cells": [
  {
   "cell_type": "code",
   "execution_count": 2,
   "metadata": {},
   "outputs": [
    {
     "name": "stdout",
     "output_type": "stream",
     "text": [
      "Collecting biopandas\n",
      "  Using cached biopandas-0.2.7-py2.py3-none-any.whl (263 kB)\n",
      "Requirement already satisfied: setuptools in /Users/edgar/opt/anaconda3/lib/python3.7/site-packages (from biopandas) (46.0.0.post20200309)\n",
      "Requirement already satisfied: numpy>=1.16.2 in /Users/edgar/opt/anaconda3/lib/python3.7/site-packages (from biopandas) (1.18.1)\n",
      "Requirement already satisfied: pandas>=0.24.2 in /Users/edgar/opt/anaconda3/lib/python3.7/site-packages (from biopandas) (1.0.1)\n",
      "Requirement already satisfied: pytz>=2017.2 in /Users/edgar/opt/anaconda3/lib/python3.7/site-packages (from pandas>=0.24.2->biopandas) (2019.3)\n",
      "Requirement already satisfied: numpy>=1.16.2 in /Users/edgar/opt/anaconda3/lib/python3.7/site-packages (from biopandas) (1.18.1)\n",
      "Requirement already satisfied: python-dateutil>=2.6.1 in /Users/edgar/opt/anaconda3/lib/python3.7/site-packages (from pandas>=0.24.2->biopandas) (2.8.1)\n",
      "Requirement already satisfied: six>=1.5 in /Users/edgar/opt/anaconda3/lib/python3.7/site-packages (from python-dateutil>=2.6.1->pandas>=0.24.2->biopandas) (1.14.0)\n",
      "Installing collected packages: biopandas\n",
      "Successfully installed biopandas-0.2.7\n",
      "\u001b[33mWARNING: You are using pip version 20.3.1; however, version 20.3.3 is available.\n",
      "You should consider upgrading via the '/Users/edgar/opt/anaconda3/bin/python -m pip install --upgrade pip' command.\u001b[0m\n",
      "Note: you may need to restart the kernel to use updated packages.\n"
     ]
    }
   ],
   "source": [
    "pip install biopandas"
   ]
  },
  {
   "cell_type": "code",
   "execution_count": 3,
   "metadata": {},
   "outputs": [
    {
     "name": "stdout",
     "output_type": "stream",
     "text": [
      "Requirement already satisfied: future in /Users/edgar/opt/anaconda3/lib/python3.7/site-packages (0.18.2)\n",
      "\u001b[33mWARNING: You are using pip version 20.3.1; however, version 20.3.3 is available.\n",
      "You should consider upgrading via the '/Users/edgar/opt/anaconda3/bin/python -m pip install --upgrade pip' command.\u001b[0m\n",
      "Note: you may need to restart the kernel to use updated packages.\n"
     ]
    }
   ],
   "source": [
    "pip install future"
   ]
  },
  {
   "cell_type": "code",
   "execution_count": 4,
   "metadata": {},
   "outputs": [
    {
     "name": "stdout",
     "output_type": "stream",
     "text": [
      "Collecting pytraj\n",
      "  Using cached pytraj-2.0.5.tar.gz (20.3 MB)\n",
      "\u001b[31m    ERROR: Command errored out with exit status 1:\n",
      "     command: /Users/edgar/opt/anaconda3/bin/python -c 'import sys, setuptools, tokenize; sys.argv[0] = '\"'\"'/private/var/folders/ls/r_0ng8bx0sx7gmbk07dd3dd00000gn/T/pip-install-m4rwdca2/pytraj_e663e2ddbfba4031875d9827207f9b6c/setup.py'\"'\"'; __file__='\"'\"'/private/var/folders/ls/r_0ng8bx0sx7gmbk07dd3dd00000gn/T/pip-install-m4rwdca2/pytraj_e663e2ddbfba4031875d9827207f9b6c/setup.py'\"'\"';f=getattr(tokenize, '\"'\"'open'\"'\"', open)(__file__);code=f.read().replace('\"'\"'\\r\\n'\"'\"', '\"'\"'\\n'\"'\"');f.close();exec(compile(code, __file__, '\"'\"'exec'\"'\"'))' egg_info --egg-base /private/var/folders/ls/r_0ng8bx0sx7gmbk07dd3dd00000gn/T/pip-pip-egg-info-d19y_w2y\n",
      "         cwd: /private/var/folders/ls/r_0ng8bx0sx7gmbk07dd3dd00000gn/T/pip-install-m4rwdca2/pytraj_e663e2ddbfba4031875d9827207f9b6c/\n",
      "    Complete output (7 lines):\n",
      "    sys.argv ['/private/var/folders/ls/r_0ng8bx0sx7gmbk07dd3dd00000gn/T/pip-install-m4rwdca2/pytraj_e663e2ddbfba4031875d9827207f9b6c/setup.py', 'egg_info', '--egg-base', '/private/var/folders/ls/r_0ng8bx0sx7gmbk07dd3dd00000gn/T/pip-pip-egg-info-d19y_w2y']\n",
      "    Original compiler envs\n",
      "    CXX =\n",
      "    CC =\n",
      "    COMPILER =\n",
      "    use_pip = True, cpptraj_home =\n",
      "    Detected use of pip; you must set CPPTRAJHOME if there is no cpptraj in the current folder\n",
      "    ----------------------------------------\u001b[0m\n",
      "\u001b[31mERROR: Command errored out with exit status 1: python setup.py egg_info Check the logs for full command output.\u001b[0m\n",
      "\u001b[33mWARNING: You are using pip version 20.3.1; however, version 20.3.3 is available.\n",
      "You should consider upgrading via the '/Users/edgar/opt/anaconda3/bin/python -m pip install --upgrade pip' command.\u001b[0m\n",
      "Note: you may need to restart the kernel to use updated packages.\n"
     ]
    }
   ],
   "source": [
    "pip install pytraj"
   ]
  },
  {
   "cell_type": "code",
   "execution_count": 5,
   "metadata": {},
   "outputs": [
    {
     "name": "stdout",
     "output_type": "stream",
     "text": [
      "Collecting nglview\n",
      "  Using cached nglview-2.7.7.tar.gz (5.2 MB)\n",
      "Requirement already satisfied: ipywidgets>=7 in /Users/edgar/opt/anaconda3/lib/python3.7/site-packages (from nglview) (7.5.1)\n",
      "Requirement already satisfied: numpy in /Users/edgar/opt/anaconda3/lib/python3.7/site-packages (from nglview) (1.18.1)\n",
      "Requirement already satisfied: ipykernel>=4.5.1 in /Users/edgar/opt/anaconda3/lib/python3.7/site-packages (from ipywidgets>=7->nglview) (5.1.4)\n",
      "Requirement already satisfied: ipython>=4.0.0 in /Users/edgar/opt/anaconda3/lib/python3.7/site-packages (from ipywidgets>=7->nglview) (7.12.0)\n",
      "Requirement already satisfied: widgetsnbextension~=3.5.0 in /Users/edgar/opt/anaconda3/lib/python3.7/site-packages (from ipywidgets>=7->nglview) (3.5.1)\n",
      "Requirement already satisfied: traitlets>=4.3.1 in /Users/edgar/opt/anaconda3/lib/python3.7/site-packages (from ipywidgets>=7->nglview) (4.3.3)\n",
      "Requirement already satisfied: nbformat>=4.2.0 in /Users/edgar/opt/anaconda3/lib/python3.7/site-packages (from ipywidgets>=7->nglview) (5.0.4)\n",
      "Requirement already satisfied: jupyter-client in /Users/edgar/opt/anaconda3/lib/python3.7/site-packages (from ipykernel>=4.5.1->ipywidgets>=7->nglview) (5.3.4)\n",
      "Requirement already satisfied: appnope in /Users/edgar/opt/anaconda3/lib/python3.7/site-packages (from ipykernel>=4.5.1->ipywidgets>=7->nglview) (0.1.0)\n",
      "Requirement already satisfied: ipython>=4.0.0 in /Users/edgar/opt/anaconda3/lib/python3.7/site-packages (from ipywidgets>=7->nglview) (7.12.0)\n",
      "Requirement already satisfied: traitlets>=4.3.1 in /Users/edgar/opt/anaconda3/lib/python3.7/site-packages (from ipywidgets>=7->nglview) (4.3.3)\n",
      "Requirement already satisfied: tornado>=4.2 in /Users/edgar/opt/anaconda3/lib/python3.7/site-packages (from ipykernel>=4.5.1->ipywidgets>=7->nglview) (6.0.3)\n",
      "Requirement already satisfied: decorator in /Users/edgar/opt/anaconda3/lib/python3.7/site-packages (from ipython>=4.0.0->ipywidgets>=7->nglview) (4.4.1)\n",
      "Requirement already satisfied: jedi>=0.10 in /Users/edgar/opt/anaconda3/lib/python3.7/site-packages (from ipython>=4.0.0->ipywidgets>=7->nglview) (0.14.1)\n",
      "Requirement already satisfied: pygments in /Users/edgar/opt/anaconda3/lib/python3.7/site-packages (from ipython>=4.0.0->ipywidgets>=7->nglview) (2.5.2)\n",
      "Requirement already satisfied: traitlets>=4.3.1 in /Users/edgar/opt/anaconda3/lib/python3.7/site-packages (from ipywidgets>=7->nglview) (4.3.3)\n",
      "Requirement already satisfied: prompt-toolkit!=3.0.0,!=3.0.1,<3.1.0,>=2.0.0 in /Users/edgar/opt/anaconda3/lib/python3.7/site-packages (from ipython>=4.0.0->ipywidgets>=7->nglview) (3.0.3)\n",
      "Requirement already satisfied: backcall in /Users/edgar/opt/anaconda3/lib/python3.7/site-packages (from ipython>=4.0.0->ipywidgets>=7->nglview) (0.1.0)\n",
      "Requirement already satisfied: pexpect in /Users/edgar/opt/anaconda3/lib/python3.7/site-packages (from ipython>=4.0.0->ipywidgets>=7->nglview) (4.8.0)\n",
      "Requirement already satisfied: appnope in /Users/edgar/opt/anaconda3/lib/python3.7/site-packages (from ipykernel>=4.5.1->ipywidgets>=7->nglview) (0.1.0)\n",
      "Requirement already satisfied: setuptools>=18.5 in /Users/edgar/opt/anaconda3/lib/python3.7/site-packages (from ipython>=4.0.0->ipywidgets>=7->nglview) (46.0.0.post20200309)\n",
      "Requirement already satisfied: pickleshare in /Users/edgar/opt/anaconda3/lib/python3.7/site-packages (from ipython>=4.0.0->ipywidgets>=7->nglview) (0.7.5)\n",
      "Requirement already satisfied: parso>=0.5.0 in /Users/edgar/opt/anaconda3/lib/python3.7/site-packages (from jedi>=0.10->ipython>=4.0.0->ipywidgets>=7->nglview) (0.5.2)\n",
      "Requirement already satisfied: jupyter-core>=4.6.0 in /Users/edgar/opt/anaconda3/lib/python3.7/site-packages (from jupyter-client->ipykernel>=4.5.1->ipywidgets>=7->nglview) (4.6.1)\n",
      "Requirement already satisfied: traitlets>=4.3.1 in /Users/edgar/opt/anaconda3/lib/python3.7/site-packages (from ipywidgets>=7->nglview) (4.3.3)\n",
      "Requirement already satisfied: tornado>=4.2 in /Users/edgar/opt/anaconda3/lib/python3.7/site-packages (from ipykernel>=4.5.1->ipywidgets>=7->nglview) (6.0.3)\n",
      "Requirement already satisfied: python-dateutil>=2.1 in /Users/edgar/opt/anaconda3/lib/python3.7/site-packages (from jupyter-client->ipykernel>=4.5.1->ipywidgets>=7->nglview) (2.8.1)\n",
      "Requirement already satisfied: pyzmq>=13 in /Users/edgar/opt/anaconda3/lib/python3.7/site-packages (from jupyter-client->ipykernel>=4.5.1->ipywidgets>=7->nglview) (18.1.1)\n",
      "Requirement already satisfied: traitlets>=4.3.1 in /Users/edgar/opt/anaconda3/lib/python3.7/site-packages (from ipywidgets>=7->nglview) (4.3.3)\n",
      "Requirement already satisfied: jsonschema!=2.5.0,>=2.4 in /Users/edgar/opt/anaconda3/lib/python3.7/site-packages (from nbformat>=4.2.0->ipywidgets>=7->nglview) (3.2.0)\n",
      "Requirement already satisfied: traitlets>=4.3.1 in /Users/edgar/opt/anaconda3/lib/python3.7/site-packages (from ipywidgets>=7->nglview) (4.3.3)\n",
      "Requirement already satisfied: jupyter-core>=4.6.0 in /Users/edgar/opt/anaconda3/lib/python3.7/site-packages (from jupyter-client->ipykernel>=4.5.1->ipywidgets>=7->nglview) (4.6.1)\n",
      "Requirement already satisfied: ipython-genutils in /Users/edgar/opt/anaconda3/lib/python3.7/site-packages (from nbformat>=4.2.0->ipywidgets>=7->nglview) (0.2.0)\n",
      "Requirement already satisfied: six>=1.11.0 in /Users/edgar/opt/anaconda3/lib/python3.7/site-packages (from jsonschema!=2.5.0,>=2.4->nbformat>=4.2.0->ipywidgets>=7->nglview) (1.14.0)\n",
      "Requirement already satisfied: setuptools>=18.5 in /Users/edgar/opt/anaconda3/lib/python3.7/site-packages (from ipython>=4.0.0->ipywidgets>=7->nglview) (46.0.0.post20200309)\n",
      "Requirement already satisfied: pyrsistent>=0.14.0 in /Users/edgar/opt/anaconda3/lib/python3.7/site-packages (from jsonschema!=2.5.0,>=2.4->nbformat>=4.2.0->ipywidgets>=7->nglview) (0.15.7)\n",
      "Requirement already satisfied: importlib-metadata in /Users/edgar/opt/anaconda3/lib/python3.7/site-packages (from jsonschema!=2.5.0,>=2.4->nbformat>=4.2.0->ipywidgets>=7->nglview) (1.5.0)\n",
      "Requirement already satisfied: attrs>=17.4.0 in /Users/edgar/opt/anaconda3/lib/python3.7/site-packages (from jsonschema!=2.5.0,>=2.4->nbformat>=4.2.0->ipywidgets>=7->nglview) (19.3.0)\n",
      "Requirement already satisfied: zipp>=0.5 in /Users/edgar/opt/anaconda3/lib/python3.7/site-packages (from importlib-metadata->jsonschema!=2.5.0,>=2.4->nbformat>=4.2.0->ipywidgets>=7->nglview) (2.2.0)\n",
      "Requirement already satisfied: ptyprocess>=0.5 in /Users/edgar/opt/anaconda3/lib/python3.7/site-packages (from pexpect->ipython>=4.0.0->ipywidgets>=7->nglview) (0.6.0)\n",
      "Requirement already satisfied: wcwidth in /Users/edgar/opt/anaconda3/lib/python3.7/site-packages (from prompt-toolkit!=3.0.0,!=3.0.1,<3.1.0,>=2.0.0->ipython>=4.0.0->ipywidgets>=7->nglview) (0.1.8)\n",
      "Requirement already satisfied: six>=1.11.0 in /Users/edgar/opt/anaconda3/lib/python3.7/site-packages (from jsonschema!=2.5.0,>=2.4->nbformat>=4.2.0->ipywidgets>=7->nglview) (1.14.0)\n",
      "Requirement already satisfied: six>=1.11.0 in /Users/edgar/opt/anaconda3/lib/python3.7/site-packages (from jsonschema!=2.5.0,>=2.4->nbformat>=4.2.0->ipywidgets>=7->nglview) (1.14.0)\n",
      "Requirement already satisfied: decorator in /Users/edgar/opt/anaconda3/lib/python3.7/site-packages (from ipython>=4.0.0->ipywidgets>=7->nglview) (4.4.1)\n",
      "Requirement already satisfied: six>=1.11.0 in /Users/edgar/opt/anaconda3/lib/python3.7/site-packages (from jsonschema!=2.5.0,>=2.4->nbformat>=4.2.0->ipywidgets>=7->nglview) (1.14.0)\n",
      "Requirement already satisfied: ipython-genutils in /Users/edgar/opt/anaconda3/lib/python3.7/site-packages (from nbformat>=4.2.0->ipywidgets>=7->nglview) (0.2.0)\n",
      "Requirement already satisfied: notebook>=4.4.1 in /Users/edgar/opt/anaconda3/lib/python3.7/site-packages (from widgetsnbextension~=3.5.0->ipywidgets>=7->nglview) (6.0.3)\n",
      "Requirement already satisfied: ipykernel>=4.5.1 in /Users/edgar/opt/anaconda3/lib/python3.7/site-packages (from ipywidgets>=7->nglview) (5.1.4)\n",
      "Requirement already satisfied: Send2Trash in /Users/edgar/opt/anaconda3/lib/python3.7/site-packages (from notebook>=4.4.1->widgetsnbextension~=3.5.0->ipywidgets>=7->nglview) (1.5.0)\n",
      "Requirement already satisfied: pyzmq>=13 in /Users/edgar/opt/anaconda3/lib/python3.7/site-packages (from jupyter-client->ipykernel>=4.5.1->ipywidgets>=7->nglview) (18.1.1)\n",
      "Requirement already satisfied: terminado>=0.8.1 in /Users/edgar/opt/anaconda3/lib/python3.7/site-packages (from notebook>=4.4.1->widgetsnbextension~=3.5.0->ipywidgets>=7->nglview) (0.8.3)\n",
      "Requirement already satisfied: prometheus-client in /Users/edgar/opt/anaconda3/lib/python3.7/site-packages (from notebook>=4.4.1->widgetsnbextension~=3.5.0->ipywidgets>=7->nglview) (0.7.1)\n",
      "Requirement already satisfied: nbformat>=4.2.0 in /Users/edgar/opt/anaconda3/lib/python3.7/site-packages (from ipywidgets>=7->nglview) (5.0.4)\n",
      "Requirement already satisfied: tornado>=4.2 in /Users/edgar/opt/anaconda3/lib/python3.7/site-packages (from ipykernel>=4.5.1->ipywidgets>=7->nglview) (6.0.3)\n",
      "Requirement already satisfied: jinja2 in /Users/edgar/opt/anaconda3/lib/python3.7/site-packages (from notebook>=4.4.1->widgetsnbextension~=3.5.0->ipywidgets>=7->nglview) (2.11.1)\n",
      "Requirement already satisfied: traitlets>=4.3.1 in /Users/edgar/opt/anaconda3/lib/python3.7/site-packages (from ipywidgets>=7->nglview) (4.3.3)\n",
      "Requirement already satisfied: jupyter-client in /Users/edgar/opt/anaconda3/lib/python3.7/site-packages (from ipykernel>=4.5.1->ipywidgets>=7->nglview) (5.3.4)\n",
      "Requirement already satisfied: ipython-genutils in /Users/edgar/opt/anaconda3/lib/python3.7/site-packages (from nbformat>=4.2.0->ipywidgets>=7->nglview) (0.2.0)\n",
      "Requirement already satisfied: nbconvert in /Users/edgar/opt/anaconda3/lib/python3.7/site-packages (from notebook>=4.4.1->widgetsnbextension~=3.5.0->ipywidgets>=7->nglview) (5.6.1)\n",
      "Requirement already satisfied: jupyter-core>=4.6.0 in /Users/edgar/opt/anaconda3/lib/python3.7/site-packages (from jupyter-client->ipykernel>=4.5.1->ipywidgets>=7->nglview) (4.6.1)\n",
      "Requirement already satisfied: MarkupSafe>=0.23 in /Users/edgar/opt/anaconda3/lib/python3.7/site-packages (from jinja2->notebook>=4.4.1->widgetsnbextension~=3.5.0->ipywidgets>=7->nglview) (1.1.1)\n"
     ]
    },
    {
     "name": "stdout",
     "output_type": "stream",
     "text": [
      "Requirement already satisfied: jupyter-core>=4.6.0 in /Users/edgar/opt/anaconda3/lib/python3.7/site-packages (from jupyter-client->ipykernel>=4.5.1->ipywidgets>=7->nglview) (4.6.1)\n",
      "Requirement already satisfied: traitlets>=4.3.1 in /Users/edgar/opt/anaconda3/lib/python3.7/site-packages (from ipywidgets>=7->nglview) (4.3.3)\n",
      "Requirement already satisfied: mistune<2,>=0.8.1 in /Users/edgar/opt/anaconda3/lib/python3.7/site-packages (from nbconvert->notebook>=4.4.1->widgetsnbextension~=3.5.0->ipywidgets>=7->nglview) (0.8.4)\n",
      "Requirement already satisfied: entrypoints>=0.2.2 in /Users/edgar/opt/anaconda3/lib/python3.7/site-packages (from nbconvert->notebook>=4.4.1->widgetsnbextension~=3.5.0->ipywidgets>=7->nglview) (0.3)\n",
      "Requirement already satisfied: testpath in /Users/edgar/opt/anaconda3/lib/python3.7/site-packages (from nbconvert->notebook>=4.4.1->widgetsnbextension~=3.5.0->ipywidgets>=7->nglview) (0.4.4)\n",
      "Requirement already satisfied: pandocfilters>=1.4.1 in /Users/edgar/opt/anaconda3/lib/python3.7/site-packages (from nbconvert->notebook>=4.4.1->widgetsnbextension~=3.5.0->ipywidgets>=7->nglview) (1.4.2)\n",
      "Requirement already satisfied: nbformat>=4.2.0 in /Users/edgar/opt/anaconda3/lib/python3.7/site-packages (from ipywidgets>=7->nglview) (5.0.4)\n",
      "Requirement already satisfied: jinja2 in /Users/edgar/opt/anaconda3/lib/python3.7/site-packages (from notebook>=4.4.1->widgetsnbextension~=3.5.0->ipywidgets>=7->nglview) (2.11.1)\n",
      "Requirement already satisfied: bleach in /Users/edgar/opt/anaconda3/lib/python3.7/site-packages (from nbconvert->notebook>=4.4.1->widgetsnbextension~=3.5.0->ipywidgets>=7->nglview) (3.1.0)\n",
      "Requirement already satisfied: defusedxml in /Users/edgar/opt/anaconda3/lib/python3.7/site-packages (from nbconvert->notebook>=4.4.1->widgetsnbextension~=3.5.0->ipywidgets>=7->nglview) (0.6.0)\n",
      "Requirement already satisfied: pygments in /Users/edgar/opt/anaconda3/lib/python3.7/site-packages (from ipython>=4.0.0->ipywidgets>=7->nglview) (2.5.2)\n",
      "Requirement already satisfied: six>=1.11.0 in /Users/edgar/opt/anaconda3/lib/python3.7/site-packages (from jsonschema!=2.5.0,>=2.4->nbformat>=4.2.0->ipywidgets>=7->nglview) (1.14.0)\n",
      "Requirement already satisfied: webencodings in /Users/edgar/opt/anaconda3/lib/python3.7/site-packages (from bleach->nbconvert->notebook>=4.4.1->widgetsnbextension~=3.5.0->ipywidgets>=7->nglview) (0.5.1)\n",
      "Building wheels for collected packages: nglview\n",
      "  Building wheel for nglview (setup.py) ... \u001b[?25ldone\n",
      "\u001b[?25h  Created wheel for nglview: filename=nglview-2.7.7-py3-none-any.whl size=6983524 sha256=7be55113c482d646e6e27c2abdafc183e554688e03fc8482ebcb821e22a4e7bf\n",
      "  Stored in directory: /Users/edgar/Library/Caches/pip/wheels/84/1e/1f/6a5f61f06bf83262ff2fe946f65325ccc6c3dc8269faab958d\n",
      "Successfully built nglview\n",
      "Installing collected packages: nglview\n",
      "Successfully installed nglview-2.7.7\n",
      "\u001b[33mWARNING: You are using pip version 20.3.1; however, version 20.3.3 is available.\n",
      "You should consider upgrading via the '/Users/edgar/opt/anaconda3/bin/python -m pip install --upgrade pip' command.\u001b[0m\n",
      "Note: you may need to restart the kernel to use updated packages.\n"
     ]
    }
   ],
   "source": [
    "pip install nglview"
   ]
  },
  {
   "cell_type": "code",
   "execution_count": 74,
   "metadata": {},
   "outputs": [
    {
     "ename": "ImportError",
     "evalue": "cannot import name 'print_function' from 'future' (/Users/ort/opt/anaconda3/lib/python3.7/site-packages/future/__init__.py)",
     "output_type": "error",
     "traceback": [
      "\u001b[0;31m---------------------------------------------------------------------------\u001b[0m",
      "\u001b[0;31mImportError\u001b[0m                               Traceback (most recent call last)",
      "\u001b[0;32m<ipython-input-74-6ec7c90f7d74>\u001b[0m in \u001b[0;36m<module>\u001b[0;34m\u001b[0m\n\u001b[1;32m      5\u001b[0m \u001b[0;32mimport\u001b[0m \u001b[0mpytraj\u001b[0m \u001b[0;32mas\u001b[0m \u001b[0mpt\u001b[0m\u001b[0;34m\u001b[0m\u001b[0;34m\u001b[0m\u001b[0m\n\u001b[1;32m      6\u001b[0m \u001b[0;32mimport\u001b[0m \u001b[0mnglview\u001b[0m \u001b[0;32mas\u001b[0m \u001b[0mnv\u001b[0m\u001b[0;34m\u001b[0m\u001b[0;34m\u001b[0m\u001b[0m\n\u001b[0;32m----> 7\u001b[0;31m \u001b[0;32mfrom\u001b[0m \u001b[0mfuture\u001b[0m \u001b[0;32mimport\u001b[0m \u001b[0mprint_function\u001b[0m\u001b[0;34m\u001b[0m\u001b[0;34m\u001b[0m\u001b[0m\n\u001b[0m",
      "\u001b[0;31mImportError\u001b[0m: cannot import name 'print_function' from 'future' (/Users/ort/opt/anaconda3/lib/python3.7/site-packages/future/__init__.py)"
     ]
    }
   ],
   "source": [
    "import py3Dmol\n",
    "from biopandas.pdb import PandasPdb\n",
    "from IPython.display import IFrame\n",
    "import warnings\n",
    "import pytraj as pt\n",
    "import nglview as nv\n",
    "from future import print_function"
   ]
  },
  {
   "cell_type": "code",
   "execution_count": 1,
   "metadata": {},
   "outputs": [
    {
     "ename": "NameError",
     "evalue": "name 'py3Dmol' is not defined",
     "output_type": "error",
     "traceback": [
      "\u001b[0;31m---------------------------------------------------------------------------\u001b[0m",
      "\u001b[0;31mNameError\u001b[0m                                 Traceback (most recent call last)",
      "\u001b[0;32m<ipython-input-1-09bea6c82248>\u001b[0m in \u001b[0;36m<module>\u001b[0;34m\u001b[0m\n\u001b[0;32m----> 1\u001b[0;31m \u001b[0mview_two\u001b[0m \u001b[0;34m=\u001b[0m \u001b[0mpy3Dmol\u001b[0m\u001b[0;34m.\u001b[0m\u001b[0mview\u001b[0m\u001b[0;34m(\u001b[0m\u001b[0mquery\u001b[0m\u001b[0;34m=\u001b[0m\u001b[0;34m'pdb:7C7L'\u001b[0m\u001b[0;34m)\u001b[0m\u001b[0;34m\u001b[0m\u001b[0;34m\u001b[0m\u001b[0m\n\u001b[0m\u001b[1;32m      2\u001b[0m \u001b[0mview_two\u001b[0m\u001b[0;34m.\u001b[0m\u001b[0msetStyle\u001b[0m\u001b[0;34m(\u001b[0m\u001b[0;34m{\u001b[0m\u001b[0;34m'cartoon'\u001b[0m\u001b[0;34m:\u001b[0m\u001b[0;34m{\u001b[0m\u001b[0;34m'color'\u001b[0m\u001b[0;34m:\u001b[0m\u001b[0;34m'spectrum'\u001b[0m\u001b[0;34m}\u001b[0m\u001b[0;34m}\u001b[0m\u001b[0;34m)\u001b[0m\u001b[0;34m\u001b[0m\u001b[0;34m\u001b[0m\u001b[0m\n\u001b[1;32m      3\u001b[0m \u001b[0mview_two\u001b[0m\u001b[0;34m\u001b[0m\u001b[0;34m\u001b[0m\u001b[0m\n",
      "\u001b[0;31mNameError\u001b[0m: name 'py3Dmol' is not defined"
     ]
    }
   ],
   "source": [
    "view_two = py3Dmol.view(query='pdb:7C7L')\n",
    "view_two.setStyle({'cartoon':{'color':'spectrum'}})\n",
    "view_two"
   ]
  },
  {
   "cell_type": "code",
   "execution_count": 6,
   "metadata": {},
   "outputs": [
    {
     "ename": "NameError",
     "evalue": "name 'PandasPdb' is not defined",
     "output_type": "error",
     "traceback": [
      "\u001b[0;31m---------------------------------------------------------------------------\u001b[0m",
      "\u001b[0;31mNameError\u001b[0m                                 Traceback (most recent call last)",
      "\u001b[0;32m<ipython-input-6-9cff8fd3bce5>\u001b[0m in \u001b[0;36m<module>\u001b[0;34m\u001b[0m\n\u001b[0;32m----> 1\u001b[0;31m \u001b[0mpro_7c7l\u001b[0m \u001b[0;34m=\u001b[0m \u001b[0mPandasPdb\u001b[0m\u001b[0;34m(\u001b[0m\u001b[0;34m)\u001b[0m\u001b[0;34m.\u001b[0m\u001b[0mfetch_pdb\u001b[0m\u001b[0;34m(\u001b[0m\u001b[0;34m'7c7l'\u001b[0m\u001b[0;34m)\u001b[0m\u001b[0;34m\u001b[0m\u001b[0;34m\u001b[0m\u001b[0m\n\u001b[0m\u001b[1;32m      2\u001b[0m \u001b[0mpro_7c7l\u001b[0m\u001b[0;34m\u001b[0m\u001b[0;34m\u001b[0m\u001b[0m\n",
      "\u001b[0;31mNameError\u001b[0m: name 'PandasPdb' is not defined"
     ]
    }
   ],
   "source": [
    "pro_7c7l = PandasPdb().fetch_pdb('7c7l')\n",
    "pro_7c7l"
   ]
  },
  {
   "cell_type": "code",
   "execution_count": null,
   "metadata": {},
   "outputs": [],
   "source": []
  },
  {
   "cell_type": "code",
   "execution_count": null,
   "metadata": {
    "scrolled": false
   },
   "outputs": [],
   "source": [
    "print('PDB Code: %s'% pro_7c7l.code)\n",
    "print('PDB Header Line %s'% pro_7c7l.header)\n",
    "print('\\nRaw PDB file contents:\\n\\n%s\\n...' % ppdb.pdb_text[:1000])"
   ]
  },
  {
   "cell_type": "code",
   "execution_count": null,
   "metadata": {},
   "outputs": [],
   "source": [
    "ppdb.df['ATOM'].head(1000)"
   ]
  },
  {
   "cell_type": "code",
   "execution_count": null,
   "metadata": {},
   "outputs": [],
   "source": []
  },
  {
   "cell_type": "code",
   "execution_count": null,
   "metadata": {},
   "outputs": [],
   "source": []
  },
  {
   "cell_type": "code",
   "execution_count": null,
   "metadata": {},
   "outputs": [],
   "source": []
  },
  {
   "cell_type": "code",
   "execution_count": null,
   "metadata": {},
   "outputs": [],
   "source": []
  },
  {
   "cell_type": "code",
   "execution_count": null,
   "metadata": {},
   "outputs": [],
   "source": []
  },
  {
   "cell_type": "code",
   "execution_count": null,
   "metadata": {},
   "outputs": [],
   "source": []
  },
  {
   "cell_type": "code",
   "execution_count": null,
   "metadata": {},
   "outputs": [],
   "source": []
  }
 ],
 "metadata": {
  "kernelspec": {
   "display_name": "Python 3",
   "language": "python",
   "name": "python3"
  },
  "language_info": {
   "codemirror_mode": {
    "name": "ipython",
    "version": 3
   },
   "file_extension": ".py",
   "mimetype": "text/x-python",
   "name": "python",
   "nbconvert_exporter": "python",
   "pygments_lexer": "ipython3",
   "version": "3.7.6"
  }
 },
 "nbformat": 4,
 "nbformat_minor": 4
}
