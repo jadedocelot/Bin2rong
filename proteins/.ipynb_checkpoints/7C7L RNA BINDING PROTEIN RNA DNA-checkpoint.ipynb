{
 "cells": [
  {
   "cell_type": "code",
   "execution_count": 30,
   "metadata": {},
   "outputs": [
    {
     "name": "stdout",
     "output_type": "stream",
     "text": [
      "Collecting biopandas\n",
      "  Downloading biopandas-0.2.7-py2.py3-none-any.whl (263 kB)\n",
      "\u001b[K     |████████████████████████████████| 263 kB 3.3 MB/s eta 0:00:01\n",
      "\u001b[?25hRequirement already satisfied: pandas>=0.24.2 in /Users/ort/opt/anaconda3/lib/python3.7/site-packages (from biopandas) (1.0.1)\n",
      "Requirement already satisfied: setuptools in /Users/ort/opt/anaconda3/lib/python3.7/site-packages (from biopandas) (46.0.0.post20200309)\n",
      "Requirement already satisfied: numpy>=1.16.2 in /Users/ort/opt/anaconda3/lib/python3.7/site-packages (from biopandas) (1.19.4)\n",
      "Requirement already satisfied: python-dateutil>=2.6.1 in /Users/ort/opt/anaconda3/lib/python3.7/site-packages (from pandas>=0.24.2->biopandas) (2.8.1)\n",
      "Requirement already satisfied: pytz>=2017.2 in /Users/ort/opt/anaconda3/lib/python3.7/site-packages (from pandas>=0.24.2->biopandas) (2019.3)\n",
      "Requirement already satisfied: six>=1.5 in /Users/ort/opt/anaconda3/lib/python3.7/site-packages (from python-dateutil>=2.6.1->pandas>=0.24.2->biopandas) (1.15.0)\n",
      "Installing collected packages: biopandas\n",
      "Successfully installed biopandas-0.2.7\n",
      "Note: you may need to restart the kernel to use updated packages.\n"
     ]
    }
   ],
   "source": [
    "pip install biopandas"
   ]
  },
  {
   "cell_type": "code",
   "execution_count": 71,
   "metadata": {},
   "outputs": [
    {
     "name": "stdout",
     "output_type": "stream",
     "text": [
      "Requirement already satisfied: future in /Users/ort/opt/anaconda3/lib/python3.7/site-packages (0.18.2)\n",
      "Note: you may need to restart the kernel to use updated packages.\n"
     ]
    }
   ],
   "source": [
    "pip install future"
   ]
  },
  {
   "cell_type": "code",
   "execution_count": 42,
   "metadata": {},
   "outputs": [
    {
     "name": "stdout",
     "output_type": "stream",
     "text": [
      "Collecting pytraj\n",
      "  Downloading pytraj-2.0.5-cp37-cp37m-macosx_10_14_x86_64.whl (8.3 MB)\n",
      "\u001b[K     |████████████████████████████████| 8.3 MB 3.7 MB/s eta 0:00:01\n",
      "\u001b[?25hRequirement already satisfied: numpy in /Users/ort/opt/anaconda3/lib/python3.7/site-packages (from pytraj) (1.19.4)\n",
      "Installing collected packages: pytraj\n",
      "Successfully installed pytraj-2.0.5\n",
      "Note: you may need to restart the kernel to use updated packages.\n"
     ]
    }
   ],
   "source": [
    "pip install pytraj"
   ]
  },
  {
   "cell_type": "code",
   "execution_count": 45,
   "metadata": {},
   "outputs": [
    {
     "name": "stdout",
     "output_type": "stream",
     "text": [
      "Requirement already satisfied: nglview in /Users/ort/opt/anaconda3/lib/python3.7/site-packages (2.7.7)\n",
      "Requirement already satisfied: ipywidgets>=7 in /Users/ort/opt/anaconda3/lib/python3.7/site-packages (from nglview) (7.5.1)\n",
      "Requirement already satisfied: numpy in /Users/ort/opt/anaconda3/lib/python3.7/site-packages (from nglview) (1.19.4)\n",
      "Requirement already satisfied: widgetsnbextension~=3.5.0 in /Users/ort/opt/anaconda3/lib/python3.7/site-packages (from ipywidgets>=7->nglview) (3.5.1)\n",
      "Requirement already satisfied: nbformat>=4.2.0 in /Users/ort/opt/anaconda3/lib/python3.7/site-packages (from ipywidgets>=7->nglview) (5.0.4)\n",
      "Requirement already satisfied: traitlets>=4.3.1 in /Users/ort/opt/anaconda3/lib/python3.7/site-packages (from ipywidgets>=7->nglview) (4.3.3)\n",
      "Requirement already satisfied: ipykernel>=4.5.1 in /Users/ort/opt/anaconda3/lib/python3.7/site-packages (from ipywidgets>=7->nglview) (5.1.4)\n",
      "Requirement already satisfied: ipython>=4.0.0; python_version >= \"3.3\" in /Users/ort/opt/anaconda3/lib/python3.7/site-packages (from ipywidgets>=7->nglview) (7.12.0)\n",
      "Requirement already satisfied: notebook>=4.4.1 in /Users/ort/opt/anaconda3/lib/python3.7/site-packages (from widgetsnbextension~=3.5.0->ipywidgets>=7->nglview) (6.0.3)\n",
      "Requirement already satisfied: jsonschema!=2.5.0,>=2.4 in /Users/ort/opt/anaconda3/lib/python3.7/site-packages (from nbformat>=4.2.0->ipywidgets>=7->nglview) (3.2.0)\n",
      "Requirement already satisfied: ipython-genutils in /Users/ort/opt/anaconda3/lib/python3.7/site-packages (from nbformat>=4.2.0->ipywidgets>=7->nglview) (0.2.0)\n",
      "Requirement already satisfied: jupyter-core in /Users/ort/opt/anaconda3/lib/python3.7/site-packages (from nbformat>=4.2.0->ipywidgets>=7->nglview) (4.6.1)\n",
      "Requirement already satisfied: decorator in /Users/ort/opt/anaconda3/lib/python3.7/site-packages (from traitlets>=4.3.1->ipywidgets>=7->nglview) (4.4.1)\n",
      "Requirement already satisfied: six in /Users/ort/opt/anaconda3/lib/python3.7/site-packages (from traitlets>=4.3.1->ipywidgets>=7->nglview) (1.15.0)\n",
      "Requirement already satisfied: jupyter-client in /Users/ort/opt/anaconda3/lib/python3.7/site-packages (from ipykernel>=4.5.1->ipywidgets>=7->nglview) (5.3.4)\n",
      "Requirement already satisfied: tornado>=4.2 in /Users/ort/opt/anaconda3/lib/python3.7/site-packages (from ipykernel>=4.5.1->ipywidgets>=7->nglview) (6.0.3)\n",
      "Requirement already satisfied: appnope; platform_system == \"Darwin\" in /Users/ort/opt/anaconda3/lib/python3.7/site-packages (from ipykernel>=4.5.1->ipywidgets>=7->nglview) (0.1.0)\n",
      "Requirement already satisfied: pickleshare in /Users/ort/opt/anaconda3/lib/python3.7/site-packages (from ipython>=4.0.0; python_version >= \"3.3\"->ipywidgets>=7->nglview) (0.7.5)\n",
      "Requirement already satisfied: pygments in /Users/ort/opt/anaconda3/lib/python3.7/site-packages (from ipython>=4.0.0; python_version >= \"3.3\"->ipywidgets>=7->nglview) (2.5.2)\n",
      "Requirement already satisfied: pexpect; sys_platform != \"win32\" in /Users/ort/opt/anaconda3/lib/python3.7/site-packages (from ipython>=4.0.0; python_version >= \"3.3\"->ipywidgets>=7->nglview) (4.8.0)\n",
      "Requirement already satisfied: prompt-toolkit!=3.0.0,!=3.0.1,<3.1.0,>=2.0.0 in /Users/ort/opt/anaconda3/lib/python3.7/site-packages (from ipython>=4.0.0; python_version >= \"3.3\"->ipywidgets>=7->nglview) (3.0.3)\n",
      "Requirement already satisfied: jedi>=0.10 in /Users/ort/opt/anaconda3/lib/python3.7/site-packages (from ipython>=4.0.0; python_version >= \"3.3\"->ipywidgets>=7->nglview) (0.14.1)\n",
      "Requirement already satisfied: setuptools>=18.5 in /Users/ort/opt/anaconda3/lib/python3.7/site-packages (from ipython>=4.0.0; python_version >= \"3.3\"->ipywidgets>=7->nglview) (46.0.0.post20200309)\n",
      "Requirement already satisfied: backcall in /Users/ort/opt/anaconda3/lib/python3.7/site-packages (from ipython>=4.0.0; python_version >= \"3.3\"->ipywidgets>=7->nglview) (0.1.0)\n",
      "Requirement already satisfied: nbconvert in /Users/ort/opt/anaconda3/lib/python3.7/site-packages (from notebook>=4.4.1->widgetsnbextension~=3.5.0->ipywidgets>=7->nglview) (5.6.1)\n",
      "Requirement already satisfied: jinja2 in /Users/ort/opt/anaconda3/lib/python3.7/site-packages (from notebook>=4.4.1->widgetsnbextension~=3.5.0->ipywidgets>=7->nglview) (2.11.1)\n",
      "Requirement already satisfied: Send2Trash in /Users/ort/opt/anaconda3/lib/python3.7/site-packages (from notebook>=4.4.1->widgetsnbextension~=3.5.0->ipywidgets>=7->nglview) (1.5.0)\n",
      "Requirement already satisfied: pyzmq>=17 in /Users/ort/opt/anaconda3/lib/python3.7/site-packages (from notebook>=4.4.1->widgetsnbextension~=3.5.0->ipywidgets>=7->nglview) (19.0.1)\n",
      "Requirement already satisfied: terminado>=0.8.1 in /Users/ort/opt/anaconda3/lib/python3.7/site-packages (from notebook>=4.4.1->widgetsnbextension~=3.5.0->ipywidgets>=7->nglview) (0.8.3)\n",
      "Requirement already satisfied: prometheus-client in /Users/ort/opt/anaconda3/lib/python3.7/site-packages (from notebook>=4.4.1->widgetsnbextension~=3.5.0->ipywidgets>=7->nglview) (0.7.1)\n",
      "Requirement already satisfied: attrs>=17.4.0 in /Users/ort/opt/anaconda3/lib/python3.7/site-packages (from jsonschema!=2.5.0,>=2.4->nbformat>=4.2.0->ipywidgets>=7->nglview) (19.3.0)\n",
      "Requirement already satisfied: pyrsistent>=0.14.0 in /Users/ort/opt/anaconda3/lib/python3.7/site-packages (from jsonschema!=2.5.0,>=2.4->nbformat>=4.2.0->ipywidgets>=7->nglview) (0.14.11)\n",
      "Requirement already satisfied: importlib-metadata; python_version < \"3.8\" in /Users/ort/opt/anaconda3/lib/python3.7/site-packages (from jsonschema!=2.5.0,>=2.4->nbformat>=4.2.0->ipywidgets>=7->nglview) (1.1.3)\n",
      "Requirement already satisfied: python-dateutil>=2.1 in /Users/ort/opt/anaconda3/lib/python3.7/site-packages (from jupyter-client->ipykernel>=4.5.1->ipywidgets>=7->nglview) (2.8.1)\n",
      "Requirement already satisfied: ptyprocess>=0.5 in /Users/ort/opt/anaconda3/lib/python3.7/site-packages (from pexpect; sys_platform != \"win32\"->ipython>=4.0.0; python_version >= \"3.3\"->ipywidgets>=7->nglview) (0.6.0)\n",
      "Requirement already satisfied: wcwidth in /Users/ort/opt/anaconda3/lib/python3.7/site-packages (from prompt-toolkit!=3.0.0,!=3.0.1,<3.1.0,>=2.0.0->ipython>=4.0.0; python_version >= \"3.3\"->ipywidgets>=7->nglview) (0.1.8)\n",
      "Requirement already satisfied: parso>=0.5.0 in /Users/ort/opt/anaconda3/lib/python3.7/site-packages (from jedi>=0.10->ipython>=4.0.0; python_version >= \"3.3\"->ipywidgets>=7->nglview) (0.5.2)\n",
      "Requirement already satisfied: entrypoints>=0.2.2 in /Users/ort/opt/anaconda3/lib/python3.7/site-packages (from nbconvert->notebook>=4.4.1->widgetsnbextension~=3.5.0->ipywidgets>=7->nglview) (0.3)\n",
      "Requirement already satisfied: pandocfilters>=1.4.1 in /Users/ort/opt/anaconda3/lib/python3.7/site-packages (from nbconvert->notebook>=4.4.1->widgetsnbextension~=3.5.0->ipywidgets>=7->nglview) (1.4.2)\n",
      "Requirement already satisfied: defusedxml in /Users/ort/opt/anaconda3/lib/python3.7/site-packages (from nbconvert->notebook>=4.4.1->widgetsnbextension~=3.5.0->ipywidgets>=7->nglview) (0.6.0)\n",
      "Requirement already satisfied: bleach in /Users/ort/opt/anaconda3/lib/python3.7/site-packages (from nbconvert->notebook>=4.4.1->widgetsnbextension~=3.5.0->ipywidgets>=7->nglview) (3.1.0)\n",
      "Requirement already satisfied: testpath in /Users/ort/opt/anaconda3/lib/python3.7/site-packages (from nbconvert->notebook>=4.4.1->widgetsnbextension~=3.5.0->ipywidgets>=7->nglview) (0.4.4)\n",
      "Requirement already satisfied: mistune<2,>=0.8.1 in /Users/ort/opt/anaconda3/lib/python3.7/site-packages (from nbconvert->notebook>=4.4.1->widgetsnbextension~=3.5.0->ipywidgets>=7->nglview) (0.8.4)\n",
      "Requirement already satisfied: MarkupSafe>=0.23 in /Users/ort/opt/anaconda3/lib/python3.7/site-packages (from jinja2->notebook>=4.4.1->widgetsnbextension~=3.5.0->ipywidgets>=7->nglview) (1.1.1)\n",
      "Requirement already satisfied: zipp>=0.5 in /Users/ort/opt/anaconda3/lib/python3.7/site-packages (from importlib-metadata; python_version < \"3.8\"->jsonschema!=2.5.0,>=2.4->nbformat>=4.2.0->ipywidgets>=7->nglview) (2.2.0)\n",
      "Requirement already satisfied: webencodings in /Users/ort/opt/anaconda3/lib/python3.7/site-packages (from bleach->nbconvert->notebook>=4.4.1->widgetsnbextension~=3.5.0->ipywidgets>=7->nglview) (0.5.1)\n",
      "Note: you may need to restart the kernel to use updated packages.\n"
     ]
    }
   ],
   "source": [
    "pip install nglview"
   ]
  },
  {
   "cell_type": "code",
   "execution_count": 74,
   "metadata": {},
   "outputs": [
    {
     "ename": "ImportError",
     "evalue": "cannot import name 'print_function' from 'future' (/Users/ort/opt/anaconda3/lib/python3.7/site-packages/future/__init__.py)",
     "output_type": "error",
     "traceback": [
      "\u001b[0;31m---------------------------------------------------------------------------\u001b[0m",
      "\u001b[0;31mImportError\u001b[0m                               Traceback (most recent call last)",
      "\u001b[0;32m<ipython-input-74-6ec7c90f7d74>\u001b[0m in \u001b[0;36m<module>\u001b[0;34m\u001b[0m\n\u001b[1;32m      5\u001b[0m \u001b[0;32mimport\u001b[0m \u001b[0mpytraj\u001b[0m \u001b[0;32mas\u001b[0m \u001b[0mpt\u001b[0m\u001b[0;34m\u001b[0m\u001b[0;34m\u001b[0m\u001b[0m\n\u001b[1;32m      6\u001b[0m \u001b[0;32mimport\u001b[0m \u001b[0mnglview\u001b[0m \u001b[0;32mas\u001b[0m \u001b[0mnv\u001b[0m\u001b[0;34m\u001b[0m\u001b[0;34m\u001b[0m\u001b[0m\n\u001b[0;32m----> 7\u001b[0;31m \u001b[0;32mfrom\u001b[0m \u001b[0mfuture\u001b[0m \u001b[0;32mimport\u001b[0m \u001b[0mprint_function\u001b[0m\u001b[0;34m\u001b[0m\u001b[0;34m\u001b[0m\u001b[0m\n\u001b[0m",
      "\u001b[0;31mImportError\u001b[0m: cannot import name 'print_function' from 'future' (/Users/ort/opt/anaconda3/lib/python3.7/site-packages/future/__init__.py)"
     ]
    }
   ],
   "source": [
    "import py3Dmol\n",
    "from biopandas.pdb import PandasPdb\n",
    "from IPython.display import IFrame\n",
    "import warnings\n",
    "import pytraj as pt\n",
    "import nglview as nv\n",
    "from future import print_function"
   ]
  },
  {
   "cell_type": "code",
   "execution_count": 77,
   "metadata": {},
   "outputs": [
    {
     "data": {
      "application/3dmoljs_load.v0": "<div id=\"3dmolviewer_1609281904531848\"  style=\"position: relative; width: 640px; height: 480px\">\n        <p id=\"3dmolwarning_1609281904531848\" style=\"background-color:#ffcccc;color:black\">You appear to be running in JupyterLab (or JavaScript failed to load for some other reason).  You need to install the 3dmol extension: <br>\n        <tt>jupyter labextension install jupyterlab_3dmol</tt></p>\n        </div>\n<script>\n\nvar loadScriptAsync = function(uri){\n  return new Promise((resolve, reject) => {\n    var tag = document.createElement('script');\n    tag.src = uri;\n    tag.async = true;\n    tag.onload = () => {\n      resolve();\n    };\n  var firstScriptTag = document.getElementsByTagName('script')[0];\n  firstScriptTag.parentNode.insertBefore(tag, firstScriptTag);\n});\n};\n\nif(typeof $3Dmolpromise === 'undefined') {\n$3Dmolpromise = null;\n  $3Dmolpromise = loadScriptAsync('https://3dmol.org/build/3Dmol.js');\n}\n\nvar viewer_1609281904531848 = null;\nvar warn = document.getElementById(\"3dmolwarning_1609281904531848\");\nif(warn) {\n    warn.parentNode.removeChild(warn);\n}\n$3Dmolpromise.then(function() {\nviewer_1609281904531848 = $3Dmol.createViewer($(\"#3dmolviewer_1609281904531848\"),{backgroundColor:\"white\"});\n$3Dmol.download(\"pdb:7C7L\", viewer_1609281904531848, {}, function() {\nviewer_1609281904531848.zoomTo();\n\tviewer_1609281904531848.setStyle({\"cartoon\": {\"color\": \"spectrum\"}});\nviewer_1609281904531848.render();\n})\n});\n</script>",
      "text/html": [
       "<div id=\"3dmolviewer_1609281904531848\"  style=\"position: relative; width: 640px; height: 480px\">\n",
       "        <p id=\"3dmolwarning_1609281904531848\" style=\"background-color:#ffcccc;color:black\">You appear to be running in JupyterLab (or JavaScript failed to load for some other reason).  You need to install the 3dmol extension: <br>\n",
       "        <tt>jupyter labextension install jupyterlab_3dmol</tt></p>\n",
       "        </div>\n",
       "<script>\n",
       "\n",
       "var loadScriptAsync = function(uri){\n",
       "  return new Promise((resolve, reject) => {\n",
       "    var tag = document.createElement('script');\n",
       "    tag.src = uri;\n",
       "    tag.async = true;\n",
       "    tag.onload = () => {\n",
       "      resolve();\n",
       "    };\n",
       "  var firstScriptTag = document.getElementsByTagName('script')[0];\n",
       "  firstScriptTag.parentNode.insertBefore(tag, firstScriptTag);\n",
       "});\n",
       "};\n",
       "\n",
       "if(typeof $3Dmolpromise === 'undefined') {\n",
       "$3Dmolpromise = null;\n",
       "  $3Dmolpromise = loadScriptAsync('https://3dmol.org/build/3Dmol.js');\n",
       "}\n",
       "\n",
       "var viewer_1609281904531848 = null;\n",
       "var warn = document.getElementById(\"3dmolwarning_1609281904531848\");\n",
       "if(warn) {\n",
       "    warn.parentNode.removeChild(warn);\n",
       "}\n",
       "$3Dmolpromise.then(function() {\n",
       "viewer_1609281904531848 = $3Dmol.createViewer($(\"#3dmolviewer_1609281904531848\"),{backgroundColor:\"white\"});\n",
       "$3Dmol.download(\"pdb:7C7L\", viewer_1609281904531848, {}, function() {\n",
       "viewer_1609281904531848.zoomTo();\n",
       "\tviewer_1609281904531848.setStyle({\"cartoon\": {\"color\": \"spectrum\"}});\n",
       "viewer_1609281904531848.render();\n",
       "})\n",
       "});\n",
       "</script>"
      ]
     },
     "metadata": {},
     "output_type": "display_data"
    },
    {
     "data": {
      "text/plain": [
       "<py3Dmol.view at 0x7f8908b81dd0>"
      ]
     },
     "execution_count": 77,
     "metadata": {},
     "output_type": "execute_result"
    }
   ],
   "source": [
    "view_two = py3Dmol.view(query='pdb:7C7L')\n",
    "view_two.setStyle({'cartoon':{'color':'spectrum'}})\n",
    "view_two"
   ]
  },
  {
   "cell_type": "code",
   "execution_count": 33,
   "metadata": {},
   "outputs": [
    {
     "data": {
      "text/plain": [
       "<biopandas.pdb.pandas_pdb.PandasPdb at 0x7f89088c2310>"
      ]
     },
     "execution_count": 33,
     "metadata": {},
     "output_type": "execute_result"
    }
   ],
   "source": [
    "ppdb = PandasPdb().fetch_pdb('7c7l')\n",
    "ppdb"
   ]
  },
  {
   "cell_type": "code",
   "execution_count": null,
   "metadata": {},
   "outputs": [],
   "source": [
    "print('PDB Code: %s'% ppdb.code)\n",
    "print('PDB Header Line %s'% ppdb.header)\n",
    "print('Raw PDB file contents')"
   ]
  },
  {
   "cell_type": "code",
   "execution_count": null,
   "metadata": {
    "scrolled": true
   },
   "outputs": [],
   "source": []
  },
  {
   "cell_type": "code",
   "execution_count": null,
   "metadata": {},
   "outputs": [],
   "source": []
  },
  {
   "cell_type": "code",
   "execution_count": null,
   "metadata": {},
   "outputs": [],
   "source": []
  },
  {
   "cell_type": "code",
   "execution_count": null,
   "metadata": {},
   "outputs": [],
   "source": []
  },
  {
   "cell_type": "code",
   "execution_count": null,
   "metadata": {},
   "outputs": [],
   "source": []
  },
  {
   "cell_type": "code",
   "execution_count": null,
   "metadata": {},
   "outputs": [],
   "source": []
  },
  {
   "cell_type": "code",
   "execution_count": null,
   "metadata": {},
   "outputs": [],
   "source": []
  }
 ],
 "metadata": {
  "kernelspec": {
   "display_name": "Python 3",
   "language": "python",
   "name": "python3"
  },
  "language_info": {
   "codemirror_mode": {
    "name": "ipython",
    "version": 3
   },
   "file_extension": ".py",
   "mimetype": "text/x-python",
   "name": "python",
   "nbconvert_exporter": "python",
   "pygments_lexer": "ipython3",
   "version": "3.7.6"
  }
 },
 "nbformat": 4,
 "nbformat_minor": 4
}
