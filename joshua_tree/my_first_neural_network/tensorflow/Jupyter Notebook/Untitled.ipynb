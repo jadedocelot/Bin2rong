{
 "cells": [
  {
   "cell_type": "code",
   "execution_count": 7,
   "metadata": {},
   "outputs": [],
   "source": [
    "#include <cmath>\n",
    "#include <string>\n",
    "#include <iostream>"
   ]
  },
  {
   "cell_type": "code",
   "execution_count": 8,
   "metadata": {},
   "outputs": [
    {
     "name": "stderr",
     "output_type": "stream",
     "text": [
      "\u001b[1minput_line_14:3:1: \u001b[0m\u001b[0;1;31merror: \u001b[0m\u001b[1muse of undeclared identifier 'cout'; did you mean 'std::cout'?\u001b[0m\n",
      "cout << \"Dan is Here!\";    \n",
      "\u001b[0;1;32m^~~~\n",
      "\u001b[0m\u001b[0;32mstd::cout\n",
      "\u001b[0m\u001b[1m/Users/ort/opt/anaconda3/include/c++/v1/iostream:54:33: \u001b[0m\u001b[0;1;30mnote: \u001b[0m'std::cout' declared here\u001b[0m\n",
      "extern _LIBCPP_FUNC_VIS ostream cout;\n",
      "\u001b[0;1;32m                                ^\n",
      "\u001b[0m"
     ]
    },
    {
     "ename": "Interpreter Error",
     "evalue": "",
     "output_type": "error",
     "traceback": [
      "Interpreter Error: "
     ]
    }
   ],
   "source": [
    "int main(){\n",
    "    \n",
    "cout << \"Dan is Here!\";    \n",
    "    \n",
    " return 0;\n",
    "}"
   ]
  }
 ],
 "metadata": {
  "kernelspec": {
   "display_name": "C++11",
   "language": "C++11",
   "name": "xcpp11"
  },
  "language_info": {
   "codemirror_mode": "text/x-c++src",
   "file_extension": ".cpp",
   "mimetype": "text/x-c++src",
   "name": "c++",
   "version": "-std=c++11"
  }
 },
 "nbformat": 4,
 "nbformat_minor": 4
}
