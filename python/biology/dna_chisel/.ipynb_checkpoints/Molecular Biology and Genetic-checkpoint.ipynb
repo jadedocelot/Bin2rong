{
 "cells": [
  {
   "cell_type": "markdown",
   "metadata": {},
   "source": [
    "## Chapter 1"
   ]
  },
  {
   "cell_type": "markdown",
   "metadata": {},
   "source": [
    "### What I Need to Work On"
   ]
  },
  {
   "cell_type": "markdown",
   "metadata": {},
   "source": [
    "### TERMS:\n",
    "\n",
    "GC-content (or guanine-cytosine content):\n",
    "________________________________________\n",
    "\n",
    "DNA (Deoxyribonucleic Acid):\n",
    "______________________________\n",
    "\n",
    "\n",
    "RNA (Ribonucleic acids):\n",
    "\n",
    "Amino Acids:\n",
    "\n",
    "DNA Replication:\n",
    "\n",
    "Gene:\n",
    "\n",
    "Genome:\n",
    "\n",
    "Protein:\n",
    "\n",
    "Polypeptid:\n",
    "\n",
    "Plasma:\n",
    "\n",
    "Plasma Membrane:\n",
    "\n",
    "Translation:\n",
    "\n",
    "Tracnscription:\n"
   ]
  },
  {
   "cell_type": "markdown",
   "metadata": {},
   "source": [
    "________\n",
    "___\n",
    "__\n",
    "_\n",
    "#### Question:\n",
    "____________\n",
    "\n",
    "\t\t-------------------\n",
    "\t\t-- True or False --\n",
    "\t\t------------------- \n",
    "\n",
    "- Genes and their encoded proteins are co-linear; that is, the order of amino acids in proteins is the same as the order of the codons in the RNA and DNA? \n"
   ]
  },
  {
   "cell_type": "markdown",
   "metadata": {},
   "source": [
    "##### DNA (Deoxyribonucleic Acid):\n",
    "\n",
    " Deoxyribonucleic acid is a molecule composed of two polynucleotide chains that coil around each other to form a double-helix carrying genetic instructions for the development, funtioning, growth and repoduction of all known organisms and many viruses.\n",
    " \n",
    " \t- Polynucleotide (molecule):\n",
    "            A \n",
    "            \n",
    "            - biopolymer:\n",
    "\n",
    "\t- DNA Replication:"
   ]
  },
  {
   "cell_type": "code",
   "execution_count": null,
   "metadata": {},
   "outputs": [],
   "source": []
  },
  {
   "cell_type": "code",
   "execution_count": null,
   "metadata": {},
   "outputs": [],
   "source": []
  },
  {
   "cell_type": "code",
   "execution_count": null,
   "metadata": {},
   "outputs": [],
   "source": []
  }
 ],
 "metadata": {
  "kernelspec": {
   "display_name": "Python 3.8.3 64-bit",
   "language": "python",
   "name": "python38364bit13013e1e820345ee95563c74cef2b644"
  },
  "language_info": {
   "codemirror_mode": {
    "name": "ipython",
    "version": 3
   },
   "file_extension": ".py",
   "mimetype": "text/x-python",
   "name": "python",
   "nbconvert_exporter": "python",
   "pygments_lexer": "ipython3",
   "version": "3.8.3"
  }
 },
 "nbformat": 4,
 "nbformat_minor": 4
}
