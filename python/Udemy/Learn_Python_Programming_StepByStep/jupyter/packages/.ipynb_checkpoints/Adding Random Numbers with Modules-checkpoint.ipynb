{
 "cells": [
  {
   "cell_type": "code",
   "execution_count": 3,
   "metadata": {},
   "outputs": [],
   "source": [
    "from modules import add\n",
    "from modules import myList\n",
    "import math,random"
   ]
  },
  {
   "cell_type": "code",
   "execution_count": 16,
   "metadata": {},
   "outputs": [
    {
     "name": "stdout",
     "output_type": "stream",
     "text": [
      "Would you like to push the button of random numbers?\n",
      "\t1.Yes\n",
      "\t2.No\n",
      "_______________\n",
      "No\n"
     ]
    },
    {
     "ename": "NameError",
     "evalue": "name 'uesrRes' is not defined",
     "output_type": "error",
     "traceback": [
      "\u001b[0;31m---------------------------------------------------------------------------\u001b[0m",
      "\u001b[0;31mNameError\u001b[0m                                 Traceback (most recent call last)",
      "\u001b[0;32m<ipython-input-16-b65e6ca3bce5>\u001b[0m in \u001b[0;36m<module>\u001b[0;34m\u001b[0m\n\u001b[1;32m      1\u001b[0m \u001b[0muserRes\u001b[0m \u001b[0;34m=\u001b[0m \u001b[0minput\u001b[0m\u001b[0;34m(\u001b[0m\u001b[0;34m\"Would you like to push the button of random numbers?\\n\\t1.Yes\\n\\t2.No\\n_______________\\n\"\u001b[0m\u001b[0;34m)\u001b[0m\u001b[0;34m\u001b[0m\u001b[0;34m\u001b[0m\u001b[0m\n\u001b[0;32m----> 2\u001b[0;31m \u001b[0;32mif\u001b[0m \u001b[0muserRes\u001b[0m \u001b[0;34m==\u001b[0m \u001b[0;34m\"yes\"\u001b[0m \u001b[0;32mor\u001b[0m \u001b[0muserRes\u001b[0m \u001b[0;34m==\u001b[0m \u001b[0;34m\"Yes\"\u001b[0m \u001b[0;32mor\u001b[0m \u001b[0muserRes\u001b[0m \u001b[0;34m==\u001b[0m \u001b[0;34m\"YES\"\u001b[0m \u001b[0;32mor\u001b[0m \u001b[0muesrRes\u001b[0m \u001b[0;34m==\u001b[0m \u001b[0;34m\"1\"\u001b[0m\u001b[0;34m:\u001b[0m\u001b[0;34m\u001b[0m\u001b[0;34m\u001b[0m\u001b[0m\n\u001b[0m\u001b[1;32m      3\u001b[0m     \u001b[0ma\u001b[0m \u001b[0;34m=\u001b[0m \u001b[0mrandom\u001b[0m\u001b[0;34m.\u001b[0m\u001b[0mchoice\u001b[0m\u001b[0;34m(\u001b[0m\u001b[0mmyList\u001b[0m\u001b[0;34m)\u001b[0m\u001b[0;34m\u001b[0m\u001b[0;34m\u001b[0m\u001b[0m\n\u001b[1;32m      4\u001b[0m     \u001b[0mprint\u001b[0m\u001b[0;34m(\u001b[0m\u001b[0;34m\"Your input has been saved in A\"\u001b[0m\u001b[0;34m)\u001b[0m\u001b[0;34m\u001b[0m\u001b[0;34m\u001b[0m\u001b[0m\n\u001b[1;32m      5\u001b[0m \u001b[0;32melif\u001b[0m \u001b[0muserRes\u001b[0m \u001b[0;34m==\u001b[0m \u001b[0;34m\"No\"\u001b[0m\u001b[0;34m:\u001b[0m\u001b[0;34m\u001b[0m\u001b[0;34m\u001b[0m\u001b[0m\n",
      "\u001b[0;31mNameError\u001b[0m: name 'uesrRes' is not defined"
     ]
    }
   ],
   "source": [
    "userRes = input(\"Would you like to push the button of random numbers?\\n\\t1.Yes\\n\\t2.No\\n_______________\\n\")\n",
    "\n",
    "if userRes == \"No\":\n",
    "    quit()\n",
    "elif userRes == \"yes\" or userRes == \"Yes\" or userRes == \"YES\" or uesrRes == \"1\":\n",
    "    a = random.choice(myList)\n",
    "    print(\"Your input has been saved in A\")\n",
    "    \n",
    "userResTwo = input(\"Now would you like to push the random button once more?\\n\\t1.Yes\\n\\t2.No\\n_______________\\n\")\n",
    "if userResTwo == \"No\":\n",
    "    quit()\n",
    "elif userResTwo == \"yes\" or userResTwo == \"Yes\" or userResTwo == \"YES\" or uesrResTwo == \"1\":\n",
    "    b = random.choice(myList)\n",
    "    print(\"Your input has been saved in B\")\n",
    "\n",
    "print(\"Please wait a moment while we add up your results\\n\\n\")                       \n",
    "\n",
    "x = add(a,b)\n",
    "                       \n",
    "print(\"\\n\\nAnd your sum is:\\n\",x)"
   ]
  }
 ],
 "metadata": {
  "kernelspec": {
   "display_name": "Python 3",
   "language": "python",
   "name": "python3"
  },
  "language_info": {
   "codemirror_mode": {
    "name": "ipython",
    "version": 3
   },
   "file_extension": ".py",
   "mimetype": "text/x-python",
   "name": "python",
   "nbconvert_exporter": "python",
   "pygments_lexer": "ipython3",
   "version": "3.7.6"
  }
 },
 "nbformat": 4,
 "nbformat_minor": 4
}
