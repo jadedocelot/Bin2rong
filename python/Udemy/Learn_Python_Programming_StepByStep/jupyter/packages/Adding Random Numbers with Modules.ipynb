{
 "cells": [
  {
   "cell_type": "code",
   "execution_count": 4,
   "metadata": {},
   "outputs": [],
   "source": [
    "from modules import add\n",
    "from modules import myList\n",
    "import math,random"
   ]
  },
  {
   "cell_type": "code",
   "execution_count": 6,
   "metadata": {},
   "outputs": [
    {
     "name": "stdout",
     "output_type": "stream",
     "text": [
      "Would you like to push the button of random numbers?\n",
      "\t1.Yes\n",
      "\t2.No\n",
      "_______________\n",
      "No\n",
      "Now would you like to push the random button once more?\n",
      "\t1.Yes\n",
      "\t2.No\n",
      "_______________\n",
      "No\n",
      "Please wait a moment while we add up your results\n",
      "\n",
      "\n",
      "\n",
      "\n",
      "And your sum is:\n",
      " 1223\n"
     ]
    }
   ],
   "source": [
    "userRes = input(\"Would you like to push the button of random numbers?\\n\\t1.Yes\\n\\t2.No\\n_______________\\n\")\n",
    "\n",
    "if userRes == \"No\":\n",
    "    quit()\n",
    "elif userRes == \"yes\" or userRes == \"Yes\" or userRes == \"YES\" or uesrRes == \"1\":\n",
    "    a = random.choice(myList)\n",
    "    print(\"Your input has been saved in A\")\n",
    "    \n",
    "userResTwo = input(\"Now would you like to push the random button once more?\\n\\t1.Yes\\n\\t2.No\\n_______________\\n\")\n",
    "if userResTwo == \"No\":\n",
    "    quit()\n",
    "elif userResTwo == \"yes\" or userResTwo == \"Yes\" or userResTwo == \"YES\" or uesrResTwo == \"1\":\n",
    "    b = random.choice(myList)\n",
    "    print(\"Your input has been saved in B\")\n",
    "\n",
    "print(\"Please wait a moment while we add up your results\\n\\n\")                       \n",
    "\n",
    "x = add(a,b)\n",
    "                       \n",
    "print(\"\\n\\nAnd your sum is:\\n\",x)"
   ]
  },
  {
   "cell_type": "markdown",
   "metadata": {},
   "source": [
    "# Adding Random Numbers With Modules\n",
    "\n",
    "- The user is asked (twice) whether or not they would like to push a button which will generate two random numbers from a list within a module file "
   ]
  }
 ],
 "metadata": {
  "kernelspec": {
   "display_name": "Python 3",
   "language": "python",
   "name": "python3"
  },
  "language_info": {
   "codemirror_mode": {
    "name": "ipython",
    "version": 3
   },
   "file_extension": ".py",
   "mimetype": "text/x-python",
   "name": "python",
   "nbconvert_exporter": "python",
   "pygments_lexer": "ipython3",
   "version": "3.7.6"
  }
 },
 "nbformat": 4,
 "nbformat_minor": 4
}
