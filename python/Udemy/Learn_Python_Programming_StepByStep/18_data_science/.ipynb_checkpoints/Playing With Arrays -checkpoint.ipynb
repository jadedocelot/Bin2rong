{
 "cells": [
  {
   "cell_type": "code",
   "execution_count": 49,
   "metadata": {},
   "outputs": [
    {
     "name": "stdout",
     "output_type": "stream",
     "text": [
      "Package                           Version   \n",
      "--------------------------------- ----------\n",
      "appdirs                           1.4.4     \n",
      "appnope                           0.1.0     \n",
      "astroid                           2.4.2     \n",
      "attrs                             19.3.0    \n",
      "backcall                          0.2.0     \n",
      "bleach                            3.1.5     \n",
      "certifi                           2020.4.5.2\n",
      "chardet                           3.0.4     \n",
      "decorator                         4.4.2     \n",
      "defusedxml                        0.6.0     \n",
      "distlib                           0.3.1     \n",
      "entrypoints                       0.3       \n",
      "filelock                          3.0.12    \n",
      "idna                              2.9       \n",
      "ipykernel                         5.3.0     \n",
      "ipython                           7.15.0    \n",
      "ipython-genutils                  0.2.0     \n",
      "ipywidgets                        7.5.1     \n",
      "isort                             4.3.21    \n",
      "jedi                              0.17.0    \n",
      "Jinja2                            2.11.2    \n",
      "json5                             0.9.5     \n",
      "jsonschema                        3.2.0     \n",
      "jupyter                           1.0.0     \n",
      "jupyter-client                    6.1.3     \n",
      "jupyter-console                   6.1.0     \n",
      "jupyter-contrib-core              0.3.3     \n",
      "jupyter-contrib-nbextensions      0.5.1     \n",
      "jupyter-core                      4.6.3     \n",
      "jupyter-highlight-selected-word   0.2.0     \n",
      "jupyter-latex-envs                1.4.6     \n",
      "jupyter-nbextensions-configurator 0.4.1     \n",
      "jupyterlab                        2.1.4     \n",
      "jupyterlab-server                 1.1.5     \n",
      "lazy-object-proxy                 1.4.3     \n",
      "lxml                              4.5.1     \n",
      "MarkupSafe                        1.1.1     \n",
      "mccabe                            0.6.1     \n",
      "mistune                           0.8.4     \n",
      "nbconvert                         5.6.1     \n",
      "nbformat                          5.0.7     \n",
      "notebook                          6.0.3     \n",
      "numpy                             1.19.4    \n",
      "packaging                         20.4      \n",
      "pandocfilters                     1.4.2     \n",
      "parso                             0.7.0     \n",
      "pexpect                           4.8.0     \n",
      "pickleshare                       0.7.5     \n",
      "pip                               19.2.3    \n",
      "prometheus-client                 0.8.0     \n",
      "prompt-toolkit                    3.0.5     \n",
      "ptyprocess                        0.6.0     \n",
      "Pygments                          2.6.1     \n",
      "pylint                            2.5.3     \n",
      "pyparsing                         2.4.7     \n",
      "pyrsistent                        0.16.0    \n",
      "python-dateutil                   2.8.1     \n",
      "PyYAML                            5.3.1     \n",
      "pyzmq                             19.0.1    \n",
      "qtconsole                         4.7.4     \n",
      "QtPy                              1.9.0     \n",
      "requests                          2.24.0    \n",
      "Send2Trash                        1.5.0     \n",
      "setuptools                        41.2.0    \n",
      "six                               1.15.0    \n",
      "terminado                         0.8.3     \n",
      "testpath                          0.4.4     \n",
      "toml                              0.10.1    \n",
      "tornado                           6.0.4     \n",
      "traitlets                         4.3.3     \n",
      "urllib3                           1.25.9    \n",
      "virtualenv                        20.0.30   \n",
      "wcwidth                           0.2.4     \n",
      "webencodings                      0.5.1     \n",
      "widgetsnbextension                3.5.1     \n",
      "wrapt                             1.12.1    \n",
      "\u001b[33mWARNING: You are using pip version 19.2.3, however version 20.3.1 is available.\n",
      "You should consider upgrading via the 'pip install --upgrade pip' command.\u001b[0m\n",
      "Note: you may need to restart the kernel to use updated packages.\n"
     ]
    }
   ],
   "source": [
    "pip list"
   ]
  },
  {
   "cell_type": "code",
   "execution_count": 14,
   "metadata": {},
   "outputs": [
    {
     "name": "stdout",
     "output_type": "stream",
     "text": [
      "Collecting numpy\n",
      "\u001b[?25l  Downloading https://files.pythonhosted.org/packages/0b/bc/a5eecf00251948d1c31434c6164368767e5c860984a99ca571ae505c37ea/numpy-1.19.4-cp38-cp38-macosx_10_9_x86_64.whl (15.3MB)\n",
      "\u001b[K     |████████████████████████████████| 15.3MB 6.5MB/s eta 0:00:01    |█                               | 481kB 2.9MB/s eta 0:00:06\n",
      "\u001b[?25hInstalling collected packages: numpy\n",
      "Successfully installed numpy-1.19.4\n",
      "\u001b[33mWARNING: You are using pip version 19.2.3, however version 20.3.1 is available.\n",
      "You should consider upgrading via the 'pip install --upgrade pip' command.\u001b[0m\n",
      "Note: you may need to restart the kernel to use updated packages.\n"
     ]
    }
   ],
   "source": [
    "pip install numpy"
   ]
  },
  {
   "cell_type": "code",
   "execution_count": 15,
   "metadata": {},
   "outputs": [],
   "source": [
    "import numpy as np"
   ]
  },
  {
   "cell_type": "code",
   "execution_count": 42,
   "metadata": {},
   "outputs": [],
   "source": [
    "lst = [12,32,32,89,28,32]\n",
    "lstTwo = [322,342,532,189,238,132]"
   ]
  },
  {
   "cell_type": "code",
   "execution_count": 17,
   "metadata": {},
   "outputs": [
    {
     "name": "stdout",
     "output_type": "stream",
     "text": [
      "<class 'list'>\n"
     ]
    }
   ],
   "source": [
    "print(type(lst))"
   ]
  },
  {
   "cell_type": "code",
   "execution_count": 43,
   "metadata": {},
   "outputs": [],
   "source": [
    "test = np.sqrt(lstTwo)"
   ]
  },
  {
   "cell_type": "markdown",
   "metadata": {},
   "source": [
    "#### Test will convert "
   ]
  },
  {
   "cell_type": "code",
   "execution_count": 18,
   "metadata": {},
   "outputs": [
    {
     "name": "stdout",
     "output_type": "stream",
     "text": [
      "<class 'numpy.ndarray'>\n"
     ]
    }
   ],
   "source": [
    "print(type(test))"
   ]
  },
  {
   "cell_type": "code",
   "execution_count": 44,
   "metadata": {},
   "outputs": [
    {
     "name": "stdout",
     "output_type": "stream",
     "text": [
      "[17.94435844 18.49324201 23.06512519 13.74772708 15.42724862 11.48912529]\n"
     ]
    }
   ],
   "source": [
    "print(test)"
   ]
  },
  {
   "cell_type": "code",
   "execution_count": 47,
   "metadata": {},
   "outputs": [],
   "source": [
    "reshapw = test.reshape(3,2)"
   ]
  },
  {
   "cell_type": "code",
   "execution_count": 48,
   "metadata": {},
   "outputs": [
    {
     "name": "stdout",
     "output_type": "stream",
     "text": [
      "[[17.94435844 18.49324201]\n",
      " [23.06512519 13.74772708]\n",
      " [15.42724862 11.48912529]]\n"
     ]
    }
   ],
   "source": [
    "print(tow)"
   ]
  }
 ],
 "metadata": {
  "kernelspec": {
   "display_name": "Python 3.8.3 64-bit",
   "language": "python",
   "name": "python38364bit13013e1e820345ee95563c74cef2b644"
  },
  "language_info": {
   "codemirror_mode": {
    "name": "ipython",
    "version": 3
   },
   "file_extension": ".py",
   "mimetype": "text/x-python",
   "name": "python",
   "nbconvert_exporter": "python",
   "pygments_lexer": "ipython3",
   "version": "3.8.3"
  }
 },
 "nbformat": 4,
 "nbformat_minor": 4
}
