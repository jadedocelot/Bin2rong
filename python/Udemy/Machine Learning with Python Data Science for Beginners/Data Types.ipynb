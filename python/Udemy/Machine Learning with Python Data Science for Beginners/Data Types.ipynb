{
 "cells": [
  {
   "cell_type": "markdown",
   "metadata": {},
   "source": [
    " NUMPY \n",
    "\n",
    "NumPy's main object is the homogeneous multidemsional array. It has associated fast math function that operates on it. It also provides simple routines linear algebra and FFT and sophisticated random-number generation."
   ]
  },
  {
   "cell_type": "markdown",
   "metadata": {},
   "source": [
    "Homogeneous Multidemsional Array: It is a table of elements(usually numbers), all of the same type, indexed by tuple of positive integers. In Numpy dimensions are called axes"
   ]
  },
  {
   "cell_type": "markdown",
   "metadata": {},
   "source": [
    "###### FOR EXAMPLE: \n",
    "The coordinates of a point in 3D space [1,2,1] is an array of rank 1, because ir has one axis   "
   ]
  },
  {
   "cell_type": "markdown",
   "metadata": {},
   "source": [
    "<img src=\"https://fgnt.github.io/python_crashkurs_doc/_images/numpy_array_t.png\">"
   ]
  },
  {
   "cell_type": "code",
   "execution_count": 1,
   "metadata": {},
   "outputs": [],
   "source": [
    "import numpy as np\n",
    "import numpy.matlib\n",
    "import matplotlib.pyplot as plt"
   ]
  },
  {
   "cell_type": "code",
   "execution_count": 294,
   "metadata": {},
   "outputs": [
    {
     "name": "stdout",
     "output_type": "stream",
     "text": [
      "[[ 0  1  2  3  4]\n",
      " [ 5  6  7  8  9]\n",
      " [10 11 12 13 14]\n",
      " [15 16 17 18 19]\n",
      " [20 21 22 23 24]\n",
      " [25 26 27 28 29]]\n"
     ]
    },
    {
     "data": {
      "text/plain": [
       "array([[ 0,  5, 10, 15, 20, 25],\n",
       "       [ 1,  6, 11, 16, 21, 26],\n",
       "       [ 2,  7, 12, 17, 22, 27],\n",
       "       [ 3,  8, 13, 18, 23, 28],\n",
       "       [ 4,  9, 14, 19, 24, 29]])"
      ]
     },
     "execution_count": 294,
     "metadata": {},
     "output_type": "execute_result"
    }
   ],
   "source": [
    "# OH FUCK! Multidemesional Array \n",
    "#import numpy as np\n",
    "#import numpy.matlib\n",
    "#import matplotlib.pyplot as plt\n",
    "\n",
    "x = np.arange(30).reshape(6,5)\n",
    "sum_array = x\n",
    "print(x)\n",
    "type(x)\n",
    "\n",
    "np.transpose(x)"
   ]
  },
  {
   "cell_type": "code",
   "execution_count": 185,
   "metadata": {},
   "outputs": [
    {
     "name": "stdout",
     "output_type": "stream",
     "text": [
      "[[1 2 3 4 5]]\n",
      "x_2 Shape: (1, 5) \n",
      "\n",
      "[1 list([1, 2, 3, 4, 5]) 2]\n",
      "x_3 Shape: (3,) \n",
      "\n",
      "[[1 2 3 4 5]\n",
      " [6 7 8 9 4]]\n",
      "x_4 Shape: (2, 5) \n",
      "\n",
      "[[1 2]\n",
      " [3 4]\n",
      " [5 6]\n",
      " [7 8]\n",
      " [9 4]]\n"
     ]
    },
    {
     "data": {
      "text/plain": [
       "array([[1, 6],\n",
       "       [2, 7],\n",
       "       [3, 8],\n",
       "       [4, 9],\n",
       "       [5, 4]])"
      ]
     },
     "execution_count": 185,
     "metadata": {},
     "output_type": "execute_result"
    }
   ],
   "source": [
    "# x_2 is a 1 dimensional array\n",
    "x_2 = np.array([[1,2,3,4,5]])\n",
    "x_3 = np.array([1,[1,2,3,4,5],2])\n",
    "x_4 = np.array([[1,2,3,4,5],[6,7,8,9,4]])\n",
    "\n",
    "#x_2\n",
    "print(x_2)\n",
    "print(\"x_2 Shape:\", x_2.shape,\"\\n\")\n",
    "#x_3\n",
    "print(x_3)\n",
    "print(\"x_3 Shape:\",x_3.shape,\"\\n\")\n",
    "#x_4\n",
    "print(x_4)\n",
    "# .shape will show the shape of an array is the number of elements in each dimension.\n",
    "print(\"x_4 Shape:\",x_4.shape,\"\\n\")\n",
    "# .reshape will reshape From 1-D to 2-D\n",
    "print(x_4.reshape(5,2))\n",
    "# The transpose() function is used to permute the dimensions of an array.\n",
    "x_4.transpose()"
   ]
  },
  {
   "cell_type": "markdown",
   "metadata": {},
   "source": [
    "##### np.arange\n",
    "    - We are pulling the arange() function from numpy (library) which create a numpy array with 30 elements (rememeber that 0 counts at 1 array). This will be one dimensional/one object\n",
    "##### .reshape\n",
    "    - .reshape() acts off .array, it will augment the the output into a dimensional array"
   ]
  },
  {
   "cell_type": "markdown",
   "metadata": {},
   "source": [
    "### A for loop searching a numpy array"
   ]
  },
  {
   "cell_type": "code",
   "execution_count": 34,
   "metadata": {},
   "outputs": [
    {
     "name": "stdout",
     "output_type": "stream",
     "text": [
      "We have located your number using Jupyter!\n"
     ]
    }
   ],
   "source": [
    "for i in x:\n",
    "    for j in i:\n",
    "        if j == 22: \n",
    "            print(\"We have located your number using Jupyter!\")"
   ]
  },
  {
   "cell_type": "markdown",
   "metadata": {},
   "source": [
    "### .dot\n",
    "\n",
    "\n",
    "This is the equivelant to matrix pultiplicatioon"
   ]
  },
  {
   "cell_type": "code",
   "execution_count": 10,
   "metadata": {},
   "outputs": [
    {
     "data": {
      "text/plain": [
       "array([[53, 75],\n",
       "       [60, 89]])"
      ]
     },
     "execution_count": 10,
     "metadata": {},
     "output_type": "execute_result"
    }
   ],
   "source": [
    "x_5 = np.array([[1,2,3,4,5],[2,4,2,3,5]])\n",
    "x_6 = np.array([[4,3,5,10,4],[4,3,5,3,4]])\n",
    "\n",
    "# x6 = x_4.dot(x_5.reshape(5,2))\n",
    "x_sum = x_5.dot(x_6.reshape(5,2))\n",
    "# print(x_5,\"\\n\")\n",
    "# print(x_6.reshape(5,2))\n",
    "\n",
    "\n",
    "\n",
    "# [[1*11+2*13, 1*12+2*14],[3*11+4*13, 3*12+4*14]]\n",
    "\n",
    "# print(addx,\"\\n\")\n",
    "x_sum\n",
    "\n",
    "# np.dot(x_5,x_6)"
   ]
  },
  {
   "cell_type": "markdown",
   "metadata": {},
   "source": [
    "### YOU NEED TO UNDERSTAND .dot!!! https://pythonexamples.org/python-numpy-dot-product/"
   ]
  },
  {
   "cell_type": "markdown",
   "metadata": {},
   "source": [
    "### .COS\n",
    "\n",
    "numpy.cos(x[, out]) = ufunc ‘cos’) : This mathematical function helps user to calculate trignmetric cosine for all x(being the array elements)."
   ]
  },
  {
   "cell_type": "code",
   "execution_count": 11,
   "metadata": {},
   "outputs": [
    {
     "name": "stdout",
     "output_type": "stream",
     "text": [
      "[[ 0.54030231 -0.41614684 -0.9899925  -0.65364362  0.28366219]\n",
      " [-0.41614684 -0.65364362 -0.41614684 -0.9899925   0.28366219]]\n"
     ]
    }
   ],
   "source": [
    "geo = np.cos(x_5)\n",
    "\n",
    "print(geo)"
   ]
  },
  {
   "cell_type": "markdown",
   "metadata": {},
   "source": [
    "## Developing an Array from scratch (consisting of zeros)"
   ]
  },
  {
   "cell_type": "code",
   "execution_count": 249,
   "metadata": {},
   "outputs": [
    {
     "name": "stdout",
     "output_type": "stream",
     "text": [
      "[0. 0. 0. 0. 0. 0. 0. 0. 0. 0.]\n",
      "\n",
      "\n",
      "[0 0 0 0 0 0 0 0 0 0]\n",
      "\n",
      "\n",
      "[1 1 1 1 1 1 1 1 1 1]\n",
      "\n",
      "\n",
      "[[0 0 0 0 0]\n",
      " [0 0 0 0 0]\n",
      " [0 0 0 0 0]\n",
      " [0 0 0 0 0]]\n"
     ]
    }
   ],
   "source": [
    "# The numpy.zeros() function returns a new array of given shape and type, with zeros\n",
    "\n",
    "# This first example will produce an array of floats\n",
    "np1 = np.zeros(10)\n",
    "print(np1)\n",
    "\n",
    "#inlcuding (dtype=) will allow you to change the data type of all the elements to INTS\n",
    "np2 = np.zeros(10,dtype=int)\n",
    "print(\"\\n\")\n",
    "print(np2)\n",
    "\n",
    "# Now thess arrays dont only need to consist of ZEROS, you can even have it consist of ONES\n",
    "np3 = np.ones(10,dtype=int)\n",
    "print(\"\\n\")\n",
    "print(np3)\n",
    "\n",
    "# We can use (.reshape) to convert the shape of \"empty\" array from a 1 dim array to a 2 dim\n",
    "np3.reshape(5,2)\n",
    "\n",
    "\n",
    "# But we can actualy choose the shape of our array from the very beginning to avoid having use use .reshape\n",
    "np4 = np.zeros((4,5), dtype = int) \n",
    "# When printed your output will be a (4,5)array consisting of (INT) zeros\n",
    "print(\"\\n\")\n",
    "print(np4)"
   ]
  },
  {
   "cell_type": "markdown",
   "metadata": {},
   "source": [
    "## Array multiplied to the the whatever power"
   ]
  },
  {
   "cell_type": "code",
   "execution_count": 209,
   "metadata": {},
   "outputs": [
    {
     "name": "stdout",
     "output_type": "stream",
     "text": [
      "[[17 13 34 25 41]\n",
      " [20 25 29 18 41]]\n",
      "\n",
      " [[17 13 34 25 41]\n",
      " [20 25 29 18 41]]\n"
     ]
    }
   ],
   "source": [
    "# x_5 = np.array([[1,2,3,4,5],[2,4,2,3,5]])\n",
    "# x_6 = np.array([[4,3,5,3,4],[4,3,5,3,4]])\n",
    "array_pwr = x_5**2 + x_6**2\n",
    "print(array_pwr)\n",
    "\n",
    "\n",
    "byStepPwr = x_5 * x_5 + x_6 * x_6\n",
    "print(\"\\n\",byStepPwr)"
   ]
  },
  {
   "cell_type": "markdown",
   "metadata": {},
   "source": [
    "## .sum, .min, .max"
   ]
  },
  {
   "cell_type": "code",
   "execution_count": 256,
   "metadata": {},
   "outputs": [
    {
     "name": "stdout",
     "output_type": "stream",
     "text": [
      "[[4 3 5 3 4]\n",
      " [4 3 5 3 4]]\n",
      "\n",
      "\n",
      "The sum of the array is: 38\n"
     ]
    }
   ],
   "source": [
    "# Sum will add up all of the elements within an array\n",
    "print(x_6)\n",
    "print(\"\\n\")\n",
    "print(\"The sum of the array is:\",x_6.sum())"
   ]
  },
  {
   "cell_type": "code",
   "execution_count": 271,
   "metadata": {},
   "outputs": [
    {
     "data": {
      "text/plain": [
       "3"
      ]
     },
     "execution_count": 271,
     "metadata": {},
     "output_type": "execute_result"
    }
   ],
   "source": [
    "# MIN will output the smallest number within the array\n",
    "x_6.min()"
   ]
  },
  {
   "cell_type": "code",
   "execution_count": 270,
   "metadata": {},
   "outputs": [
    {
     "data": {
      "text/plain": [
       "10"
      ]
     },
     "execution_count": 270,
     "metadata": {},
     "output_type": "execute_result"
    }
   ],
   "source": [
    "# Max will output the largest number within the array\n",
    "x_6.max()"
   ]
  },
  {
   "cell_type": "code",
   "execution_count": 277,
   "metadata": {},
   "outputs": [
    {
     "name": "stdout",
     "output_type": "stream",
     "text": [
      "[[ 4  3  5 10  4]\n",
      " [ 4  3  5  3  4]]\n"
     ]
    }
   ],
   "source": [
    "print(x_6)"
   ]
  },
  {
   "cell_type": "markdown",
   "metadata": {},
   "source": [
    "## Using Pyplot to create plots"
   ]
  },
  {
   "cell_type": "markdown",
   "metadata": {},
   "source": [
    "#### .linespace\n",
    "\n",
    "    - Return evenly spaced numbers over a specified interval."
   ]
  },
  {
   "cell_type": "code",
   "execution_count": 3,
   "metadata": {},
   "outputs": [
    {
     "data": {
      "image/png": "[encoded data removed]",
      "text/plain": [
       "<Figure size 432x288 with 1 Axes>"
      ]
     },
     "metadata": {
      "needs_background": "light"
     },
     "output_type": "display_data"
    }
   ],
   "source": [
    "n = 10\n",
    "mY = np.zeros(n)\n",
    "\n",
    "# x axis\n",
    "x_7 = np.linspace(0,10, n, endpoint=True)\n",
    "\n",
    "plt.plot(x_7, mY + 5, 'o')\n",
    "#plt.plot(x_7, mY,'o')\n",
    "\n",
    "# y axis                  \n",
    "plt.ylim([0,10])\n",
    "# plot title\n",
    "plt.title(\"My First Plot\")\n",
    "# X axis title\n",
    "plt.xlabel(\"Reality\") \n",
    "# Y axis title\n",
    "plt.ylabel(\"My Brain\") \n",
    "plt.show()"
   ]
  },
  {
   "cell_type": "code",
   "execution_count": null,
   "metadata": {},
   "outputs": [],
   "source": []
  },
  {
   "cell_type": "code",
   "execution_count": 13,
   "metadata": {},
   "outputs": [
    {
     "data": {
      "image/png": "[encoded data removed]",
      "text/plain": [
       "<Figure size 432x288 with 1 Axes>"
      ]
     },
     "metadata": {
      "needs_background": "light"
     },
     "output_type": "display_data"
    }
   ],
   "source": [
    "x_8 = np.arange(10)\n",
    "x_9 = np.cos(x_8)\n",
    "\n",
    "# X axis\n",
    "xAxis = np.linspace(-10,10, n, endpoint=True)\n",
    "\n",
    "plt.plot(xAxis, x_9 + 5, color='pink', marker='x')\n",
    "\n",
    "# Y axis\n",
    "plt.ylim([1,10])\n",
    "# plot title\n",
    "plt.title(\"My First Plot\")\n",
    "# X axis title\n",
    "plt.xlabel(\"Reality\") \n",
    "# Y axis title\n",
    "plt.ylabel(\"My Brain\") \n",
    "plt.show()"
   ]
  },
  {
   "cell_type": "code",
   "execution_count": 6,
   "metadata": {},
   "outputs": [
    {
     "data": {
      "text/plain": [
       "array([ 1.        ,  0.54030231, -0.41614684, -0.9899925 , -0.65364362,\n",
       "        0.28366219,  0.96017029,  0.75390225, -0.14550003, -0.91113026])"
      ]
     },
     "execution_count": 6,
     "metadata": {},
     "output_type": "execute_result"
    }
   ],
   "source": [
    "x_9"
   ]
  },
  {
   "cell_type": "code",
   "execution_count": 379,
   "metadata": {},
   "outputs": [
    {
     "data": {
      "image/png": "[encoded data removed]",
      "text/plain": [
       "<Figure size 432x288 with 1 Axes>"
      ]
     },
     "metadata": {
      "needs_background": "light"
     },
     "output_type": "display_data"
    }
   ],
   "source": [
    "N = 8\n",
    "y = np.zeros(N)\n",
    "x1 = np.linspace(0, 10, N, endpoint=True)\n",
    "x2 = np.linspace(0, 10, N, endpoint=False)\n",
    "plt.plot(x1, y, 'o')\n",
    "\n",
    "plt.plot(x2, y + 0.5, 'o')\n",
    "\n",
    "plt.ylim([-0.5, 1])\n",
    "\n",
    "plt.show()"
   ]
  },
  {
   "cell_type": "markdown",
   "metadata": {},
   "source": [
    "## Example of a \"solid\" plot"
   ]
  },
  {
   "cell_type": "code",
   "execution_count": 25,
   "metadata": {},
   "outputs": [
    {
     "name": "stdout",
     "output_type": "stream",
     "text": [
      "in_array :  [-91.10618695 -81.51606201 -71.92593707 -62.33581213 -52.74568718\n",
      " -43.15556224 -33.5654373  -23.97531236 -14.38518741  -4.79506247\n",
      "   4.79506247  14.38518741  23.97531236  33.5654373   43.15556224\n",
      "  52.74568718  62.33581213  71.92593707  81.51606201  91.10618695]\n",
      "\n",
      "out_array :  [-1.          0.9863613  -0.94581724  0.87947375 -0.78914051  0.67728157\n",
      " -0.54694816  0.40169542 -0.24548549  0.08257935  0.08257935 -0.24548549\n",
      "  0.40169542 -0.54694816  0.67728157 -0.78914051  0.87947375 -0.94581724\n",
      "  0.9863613  -1.        ]\n"
     ]
    },
    {
     "data": {
      "image/png": "[encoded data removed]",
      "text/plain": [
       "<Figure size 432x288 with 1 Axes>"
      ]
     },
     "metadata": {
      "needs_background": "light"
     },
     "output_type": "display_data"
    }
   ],
   "source": [
    "in_array = np.linspace(-(29*np.pi), 29*np.pi, 20) \n",
    "out_array = np.cos(in_array) \n",
    "  \n",
    "print(\"in_array : \", in_array) \n",
    "print(\"\\nout_array : \", out_array) \n",
    "  \n",
    "# red for numpy.cos() \n",
    "plt.plot(in_array, out_array, color = 'red', marker = \"o\") \n",
    "plt.title(\"numpy.cos()\") \n",
    "plt.xlabel(\"Reality\") \n",
    "plt.ylabel(\"My Brain\") \n",
    "plt.show() "
   ]
  }
 ],
 "metadata": {
  "kernelspec": {
   "display_name": "Python 3",
   "language": "python",
   "name": "python3"
  },
  "language_info": {
   "codemirror_mode": {
    "name": "ipython",
    "version": 3
   },
   "file_extension": ".py",
   "mimetype": "text/x-python",
   "name": "python",
   "nbconvert_exporter": "python",
   "pygments_lexer": "ipython3",
   "version": "3.8.3"
  }
 },
 "nbformat": 4,
 "nbformat_minor": 4
}
