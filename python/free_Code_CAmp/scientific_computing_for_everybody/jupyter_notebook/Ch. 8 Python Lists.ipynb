{
 "cells": [
  {
   "cell_type": "markdown",
   "metadata": {},
   "source": [
    "## Algorithms"
   ]
  },
  {
   "cell_type": "markdown",
   "metadata": {},
   "source": [
    "- A set of rules or steps used to solve a problem\n"
   ]
  },
  {
   "cell_type": "markdown",
   "metadata": {},
   "source": [
    "### Data Structures:\n",
    "    - A paticular way of organizing data in a computer\n",
    "    \n"
   ]
  },
  {
   "cell_type": "markdown",
   "metadata": {},
   "source": [
    "#### What is note a collectiong?\n",
    "\n",
    "- Most of our variables have one value in them, when we put a new value in the variable, the old value is overwritten like so:"
   ]
  },
  {
   "cell_type": "code",
   "execution_count": 4,
   "metadata": {},
   "outputs": [
    {
     "name": "stdout",
     "output_type": "stream",
     "text": [
      "10\n",
      "Hello Jupyter\n"
     ]
    }
   ],
   "source": [
    "x = 10\n",
    "print(x)\n",
    "x = 'Hello Jupyter'\n",
    "\n",
    "print(x)"
   ]
  },
  {
   "cell_type": "code",
   "execution_count": null,
   "metadata": {},
   "outputs": [],
   "source": []
  },
  {
   "cell_type": "markdown",
   "metadata": {},
   "source": [
    "- A collection allows us to put many values in a single \"variable\"\n",
    "\n",
    "- A collection is nice because we can carry many values around in one convinient package"
   ]
  },
  {
   "cell_type": "code",
   "execution_count": 10,
   "metadata": {},
   "outputs": [
    {
     "name": "stdout",
     "output_type": "stream",
     "text": [
      "['Sam', 'Jake', 'Tina', 'Logan', 'dildo', 'lotion', 'candy', 'surfing wax', 'cereal']\n",
      "['dildo', 'lotion', 'candy', 'surfing wax', 'cereal']\n"
     ]
    }
   ],
   "source": [
    "friends = ['Sam','Jake','Tina','Logan']\n",
    "carryOnLuggae = ['dildo','lotion','candy','surfing wax','cereal']\n",
    "\n",
    "print(friends + carryOnLuggae) # In this line we concentate 2 lists.....kinda neat?\n",
    "print(carryOnLuggae)"
   ]
  },
  {
   "cell_type": "markdown",
   "metadata": {},
   "source": [
    "# LISTS"
   ]
  },
  {
   "cell_type": "markdown",
   "metadata": {},
   "source": [
    "### Algorithims:\n",
    "    - A set of rules or steps to solve a problem\n",
    "    \n",
    "### Data Structures:\n",
    "    - A particular way of organizing data in a computer"
   ]
  },
  {
   "cell_type": "markdown",
   "metadata": {},
   "source": [
    "- Lists are \"kinda\" data structures"
   ]
  },
  {
   "cell_type": "markdown",
   "metadata": {},
   "source": [
    "### What is <span style =\"color:red\">NOT</span> a collection "
   ]
  },
  {
   "cell_type": "markdown",
   "metadata": {},
   "source": [
    "- Most of our variables have one value in them, when we put a new value\n",
    "\n",
    "- A list is a kind of collection, a collection allows us to put many values into a single \"variable\""
   ]
  },
  {
   "cell_type": "markdown",
   "metadata": {},
   "source": [
    "[List,Constantsd]"
   ]
  },
  {
   "cell_type": "markdown",
   "metadata": {},
   "source": [
    "- List: constants are surrounded by square brackets and the element in the list are seperated by commas\n",
    "- A list element in Python can be any Python object, even another list\n",
    "- A list can be empty (list() - method?)\n",
    "    - List can carry <span style=\"color:blue\">INTS</span>, <span style=\"color:blue\">FLOATS</span>, and <span style=\"color:blue\">STRINGS</span>"
   ]
  },
  {
   "cell_type": "code",
   "execution_count": 19,
   "metadata": {},
   "outputs": [
    {
     "name": "stdout",
     "output_type": "stream",
     "text": [
      "[12, 322, 3, 11, 26, 2]\n",
      "[21.22, 21.2, 88.655, 4.223]\n",
      "['grapes', 'needles', 'sours', 'beer']\n"
     ]
    }
   ],
   "source": [
    "listNum = [12,322,3,11,26,2]\n",
    "listFloat = [21.22,21.2,88.655,4.223]\n",
    "listSting = [\"grapes\",\"needles\",\"sours\",\"beer\"]\n",
    "\n",
    "\n",
    "print(listNum)\n",
    "print(listFloat)\n",
    "print(listSting)"
   ]
  },
  {
   "cell_type": "code",
   "execution_count": 20,
   "metadata": {},
   "outputs": [
    {
     "name": "stdout",
     "output_type": "stream",
     "text": [
      "21.22\n",
      "21.2\n",
      "88.655\n",
      "4.223\n"
     ]
    }
   ],
   "source": [
    "for i in listFloat:\n",
    "    print(i)\n",
    "    "
   ]
  },
  {
   "cell_type": "code",
   "execution_count": 26,
   "metadata": {},
   "outputs": [
    {
     "name": "stdout",
     "output_type": "stream",
     "text": [
      "We will need:  grapes\n",
      "We will need:  needles\n",
      "We will need:  sours\n",
      "We will need:  beer\n",
      "And that is all that is needed.\n"
     ]
    }
   ],
   "source": [
    "for x in listSting:\n",
    "    print(\"We will need: \",x)\n",
    "print(\"And that is all that is needed.\")"
   ]
  },
  {
   "cell_type": "markdown",
   "metadata": {},
   "source": [
    "- Lists are indexed starting with ZERO, which is considered  \"SUB ZERO POSITION\""
   ]
  },
  {
   "cell_type": "markdown",
   "metadata": {},
   "source": [
    "### - Lists are mutable\n",
    "\n",
    "- Mutable: can be changed \n",
    "\n",
    "- When something is \"immutable\" it means that it cannot be changed. The contents of a string. We must make. a new string. To make any changes (it could can also be converted using (list()))"
   ]
  },
  {
   "cell_type": "markdown",
   "metadata": {},
   "source": [
    "NOTE: That you cannot update an individual character within a string, the string will have to be changed entirely "
   ]
  },
  {
   "cell_type": "code",
   "execution_count": 28,
   "metadata": {},
   "outputs": [
    {
     "ename": "TypeError",
     "evalue": "'str' object does not support item assignment",
     "output_type": "error",
     "traceback": [
      "\u001b[0;31m---------------------------------------------------------------------------\u001b[0m",
      "\u001b[0;31mTypeError\u001b[0m                                 Traceback (most recent call last)",
      "\u001b[0;32m<ipython-input-28-b5fb7f71d3b5>\u001b[0m in \u001b[0;36m<module>\u001b[0;34m\u001b[0m\n\u001b[1;32m      1\u001b[0m \u001b[0mx\u001b[0m \u001b[0;34m=\u001b[0m \u001b[0;34m\"Lemmon\"\u001b[0m\u001b[0;34m\u001b[0m\u001b[0;34m\u001b[0m\u001b[0m\n\u001b[1;32m      2\u001b[0m \u001b[0;34m\u001b[0m\u001b[0m\n\u001b[0;32m----> 3\u001b[0;31m \u001b[0mx\u001b[0m\u001b[0;34m[\u001b[0m\u001b[0;36m0\u001b[0m\u001b[0;34m]\u001b[0m \u001b[0;34m=\u001b[0m \u001b[0;34m\"l\"\u001b[0m\u001b[0;34m\u001b[0m\u001b[0;34m\u001b[0m\u001b[0m\n\u001b[0m",
      "\u001b[0;31mTypeError\u001b[0m: 'str' object does not support item assignment"
     ]
    }
   ],
   "source": [
    "x = \"Lemmon\"\n",
    "\n",
    "x[0] = \"l\""
   ]
  },
  {
   "cell_type": "code",
   "execution_count": 47,
   "metadata": {},
   "outputs": [
    {
     "name": "stdout",
     "output_type": "stream",
     "text": [
      "lemmon\n"
     ]
    }
   ],
   "source": [
    "# As you can see in this example we converted the string to ALL lower case, the same method can also be applied to converting to all UPPERCASE \n",
    "y = x.lower()\n",
    "\n",
    "print(y)"
   ]
  },
  {
   "cell_type": "markdown",
   "metadata": {},
   "source": [
    "### How long is a list??"
   ]
  },
  {
   "cell_type": "markdown",
   "metadata": {},
   "source": [
    "The len() function takes a list as a parameter and return the number of elements in the list"
   ]
  },
  {
   "cell_type": "code",
   "execution_count": 49,
   "metadata": {},
   "outputs": [
    {
     "name": "stdout",
     "output_type": "stream",
     "text": [
      "6\n"
     ]
    }
   ],
   "source": [
    "y = len(x)\n",
    "\n",
    "print(y)"
   ]
  },
  {
   "cell_type": "markdown",
   "metadata": {},
   "source": [
    "NOTE: When using a <span style=\"color:red\">len()</span> on a string it counts the CHARACTERS within said string, though when applying it to a list you will no longer be getting a character count but rather a cound of the ELEMENTS within the list."
   ]
  },
  {
   "cell_type": "code",
   "execution_count": null,
   "metadata": {},
   "outputs": [],
   "source": []
  },
  {
   "cell_type": "code",
   "execution_count": 51,
   "metadata": {},
   "outputs": [
    {
     "name": "stdout",
     "output_type": "stream",
     "text": [
      "6\n",
      "4\n"
     ]
    }
   ],
   "source": [
    "lenList = len(listSting)\n",
    "\n",
    "print(y)\n",
    "print(lenList)"
   ]
  },
  {
   "cell_type": "markdown",
   "metadata": {},
   "source": [
    "## Using the range function"
   ]
  },
  {
   "cell_type": "markdown",
   "metadata": {},
   "source": [
    " - The range function returns a list of numbers that range from 0 ti one less than the parameter\n",
    "\n",
    " - We can construct an index loop using for and the integer iterator"
   ]
  },
  {
   "cell_type": "markdown",
   "metadata": {},
   "source": [
    "print(len(listSting))\n",
    "print(range(len(listSting)))"
   ]
  },
  {
   "cell_type": "markdown",
   "metadata": {},
   "source": [
    "### List Methods"
   ]
  },
  {
   "cell_type": "code",
   "execution_count": 69,
   "metadata": {},
   "outputs": [
    {
     "ename": "AttributeError",
     "evalue": "'list' object attribute 'append' is read-only",
     "output_type": "error",
     "traceback": [
      "\u001b[0;31m---------------------------------------------------------------------------\u001b[0m",
      "\u001b[0;31mAttributeError\u001b[0m                            Traceback (most recent call last)",
      "\u001b[0;32m<ipython-input-69-3202f2c403c6>\u001b[0m in \u001b[0;36m<module>\u001b[0;34m\u001b[0m\n\u001b[1;32m      1\u001b[0m \u001b[0mf\u001b[0m \u001b[0;34m=\u001b[0m \u001b[0mlist\u001b[0m\u001b[0;34m(\u001b[0m\u001b[0;34m)\u001b[0m\u001b[0;34m\u001b[0m\u001b[0;34m\u001b[0m\u001b[0m\n\u001b[1;32m      2\u001b[0m \u001b[0;34m\u001b[0m\u001b[0m\n\u001b[0;32m----> 3\u001b[0;31m \u001b[0mf\u001b[0m\u001b[0;34m.\u001b[0m\u001b[0mappend\u001b[0m \u001b[0;34m=\u001b[0m \u001b[0;36m21\u001b[0m\u001b[0;34m\u001b[0m\u001b[0;34m\u001b[0m\u001b[0m\n\u001b[0m\u001b[1;32m      4\u001b[0m \u001b[0mf\u001b[0m\u001b[0;34m.\u001b[0m\u001b[0mappend\u001b[0m \u001b[0;34m=\u001b[0m \u001b[0;36m654\u001b[0m\u001b[0;34m\u001b[0m\u001b[0;34m\u001b[0m\u001b[0m\n\u001b[1;32m      5\u001b[0m \u001b[0;34m\u001b[0m\u001b[0m\n",
      "\u001b[0;31mAttributeError\u001b[0m: 'list' object attribute 'append' is read-only"
     ]
    }
   ],
   "source": [
    "f = list() \n",
    "\n",
    "f.append = 21\n",
    "f.append = 654\n",
    "\n",
    "print(f)"
   ]
  },
  {
   "cell_type": "markdown",
   "metadata": {},
   "source": [
    "### Slicing Lists"
   ]
  },
  {
   "cell_type": "code",
   "execution_count": 11,
   "metadata": {},
   "outputs": [
    {
     "data": {
      "text/plain": [
       "[21.22, 21.2, 88.655]"
      ]
     },
     "execution_count": 11,
     "metadata": {},
     "output_type": "execute_result"
    }
   ],
   "source": [
    "listFloat = [21.22,21.2,88.655,4.223]\n",
    "\n",
    "listFloat[0:3]\n"
   ]
  },
  {
   "cell_type": "markdown",
   "metadata": {},
   "source": [
    "NOTE: When slicing, Python will always stop right before the 3rd index. (4.223 being in the 3rd index placement)"
   ]
  },
  {
   "cell_type": "markdown",
   "metadata": {},
   "source": [
    "### List Methods\n",
    "\n",
    "The list( ) method will create a blank list"
   ]
  },
  {
   "cell_type": "code",
   "execution_count": 13,
   "metadata": {},
   "outputs": [
    {
     "name": "stdout",
     "output_type": "stream",
     "text": [
      "['Too small']\n"
     ]
    }
   ],
   "source": [
    "x = list() \n",
    "\n",
    "sum = 49\n",
    "\n",
    "if sum < 100:\n",
    "    x.append('Too small')\n",
    "else:\n",
    "    x.append(\"Level up\")\n",
    "    \n",
    "print(x)"
   ]
  },
  {
   "cell_type": "markdown",
   "metadata": {},
   "source": [
    "- One can add elements to a blank list() by using the append method (As seen above)\n",
    "\n",
    "- Python provides two operators to cehck if an item is in the list.\n",
    "\n",
    "- ALSO, Lists are in order"
   ]
  },
  {
   "cell_type": "markdown",
   "metadata": {},
   "source": [
    "##### sort() method (unlike strings) means \"sort yourself\"\n",
    "\n",
    "   * This can be helpful for sorting lists"
   ]
  },
  {
   "cell_type": "markdown",
   "metadata": {},
   "source": [
    "## Strings and Lists"
   ]
  },
  {
   "cell_type": "code",
   "execution_count": 14,
   "metadata": {},
   "outputs": [
    {
     "name": "stdout",
     "output_type": "stream",
     "text": [
      "['with', 'three', 'word']\n"
     ]
    }
   ],
   "source": [
    "abc = 'with three word'\n",
    "\n",
    "stuff = abc.split()\n",
    "\n",
    "print(stuff)"
   ]
  },
  {
   "cell_type": "markdown",
   "metadata": {},
   "source": [
    "The above example uses the split( ) method to split the string assigned to \"abc\". This split will convert each word into an element which will then be placed into a list.\n"
   ]
  }
 ],
 "metadata": {
  "kernelspec": {
   "display_name": "Python 3",
   "language": "python",
   "name": "python3"
  },
  "language_info": {
   "codemirror_mode": {
    "name": "ipython",
    "version": 3
   },
   "file_extension": ".py",
   "mimetype": "text/x-python",
   "name": "python",
   "nbconvert_exporter": "python",
   "pygments_lexer": "ipython3",
   "version": "3.7.6"
  }
 },
 "nbformat": 4,
 "nbformat_minor": 4
}
