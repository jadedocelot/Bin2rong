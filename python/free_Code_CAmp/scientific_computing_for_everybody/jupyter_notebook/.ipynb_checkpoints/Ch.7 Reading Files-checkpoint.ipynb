{
 "cells": [
  {
   "cell_type": "markdown",
   "metadata": {},
   "source": [
    "- A text file can be thought of as a sequence of lines\n",
    "\n",
    "Hello.txt<- text file"
   ]
  },
  {
   "cell_type": "markdown",
   "metadata": {},
   "source": [
    "### Opening a File"
   ]
  },
  {
   "cell_type": "markdown",
   "metadata": {},
   "source": [
    "Before we can read the contents of the file, we must tell Python which file we are going to work with and what we will be doing with the file."
   ]
  },
  {
   "cell_type": "markdown",
   "metadata": {},
   "source": [
    "- This is done with the open() function\n",
    "- open() returns a \"file handle\", a variable used to perform operations on the file\n",
    "- Similar to \"file\" -> open in a word processor\n",
    "- Handle = open(filename, mode)\n",
    "    - fhand = open('mbox.txt', 'r')\n",
    "        - mode is optional and should be \"R\" if we are planningto read the file and \"W\" if we are going to write the file"
   ]
  },
  {
   "cell_type": "markdown",
   "metadata": {},
   "source": [
    "### New Line Character"
   ]
  },
  {
   "cell_type": "markdown",
   "metadata": {},
   "source": [
    "- We use a special character caller the \"newline\" to indicate whne a new line ends\n",
    "    - We represent it as (\\n) in strings"
   ]
  },
  {
   "cell_type": "markdown",
   "metadata": {},
   "source": [
    "### Filename Handle as a Sequence"
   ]
  },
  {
   "cell_type": "markdown",
   "metadata": {},
   "source": [
    "- A file handle open for read can be treated as a sequence of strings where each line in the file is a string in the sequence"
   ]
  },
  {
   "cell_type": "markdown",
   "metadata": {},
   "source": [
    "NOTE: Below is an example that is note linked to any existing file or actions"
   ]
  },
  {
   "cell_type": "code",
   "execution_count": null,
   "metadata": {},
   "outputs": [],
   "source": [
    "xfile = open('mbox.txt')\n",
    "for cheese in xfile:\n",
    "    print(cheese)"
   ]
  },
  {
   "cell_type": "markdown",
   "metadata": {},
   "source": [
    "- Remember a sequence is and ordered set"
   ]
  },
  {
   "cell_type": "markdown",
   "metadata": {},
   "source": [
    "### Counting Lines in a File"
   ]
  },
  {
   "cell_type": "markdown",
   "metadata": {},
   "source": [
    "- Open a file read - only\n",
    "- Use a for loop to read each line \n",
    "- count the lines print out the number of lines"
   ]
  },
  {
   "cell_type": "code",
   "execution_count": null,
   "metadata": {},
   "outputs": [],
   "source": [
    "fhand = open('mbox.txt')\n",
    "count = 0 \n",
    "for line in fhand:\n",
    "    count = count + 1\n",
    "    print('Line count: ', count)"
   ]
  },
  {
   "cell_type": "code",
   "execution_count": 2,
   "metadata": {},
   "outputs": [
    {
     "ename": "SyntaxError",
     "evalue": "invalid syntax (<ipython-input-2-12ee3dcac40a>, line 1)",
     "output_type": "error",
     "traceback": [
      "\u001b[0;36m  File \u001b[0;32m\"<ipython-input-2-12ee3dcac40a>\"\u001b[0;36m, line \u001b[0;32m1\u001b[0m\n\u001b[0;31m    OUTPUT - Line Count: 132045\u001b[0m\n\u001b[0m                      ^\u001b[0m\n\u001b[0;31mSyntaxError\u001b[0m\u001b[0;31m:\u001b[0m invalid syntax\n"
     ]
    }
   ],
   "source": [
    "OUTPUT - Line Count: 132045"
   ]
  },
  {
   "cell_type": "code",
   "execution_count": null,
   "metadata": {},
   "outputs": [],
   "source": [
    "OUTPUT - Line Count: 132045"
   ]
  },
  {
   "cell_type": "markdown",
   "metadata": {},
   "source": [
    "### Reading the *whole* File"
   ]
  },
  {
   "cell_type": "markdown",
   "metadata": {},
   "source": [
    "- We can read the whole file (newlines and all) into a single string"
   ]
  },
  {
   "cell_type": "code",
   "execution_count": null,
   "metadata": {},
   "outputs": [],
   "source": [
    "fhand = open('mbox-short.txt')\n",
    "lnp = fhand.read()\n",
    "print (len())\n",
    "94626\n",
    "print(lnp[:20])"
   ]
  },
  {
   "cell_type": "markdown",
   "metadata": {},
   "source": [
    "## Searching Through a File"
   ]
  },
  {
   "cell_type": "markdown",
   "metadata": {},
   "source": [
    "- We can put an (if) statement in our (for) loop to only print lines that meet some critical"
   ]
  },
  {
   "cell_type": "code",
   "execution_count": 3,
   "metadata": {},
   "outputs": [
    {
     "ename": "SyntaxError",
     "evalue": "EOL while scanning string literal (<ipython-input-3-8ba3d4fdebad>, line 3)",
     "output_type": "error",
     "traceback": [
      "\u001b[0;36m  File \u001b[0;32m\"<ipython-input-3-8ba3d4fdebad>\"\u001b[0;36m, line \u001b[0;32m3\u001b[0m\n\u001b[0;31m    if line.startswith('from'):\"\u001b[0m\n\u001b[0m                                ^\u001b[0m\n\u001b[0;31mSyntaxError\u001b[0m\u001b[0;31m:\u001b[0m EOL while scanning string literal\n"
     ]
    }
   ],
   "source": [
    "fhand = open ('mbox-short.txt')\n",
    "for line in fhand:\n",
    "    if line.startswith('from'):\n",
    "        print(line)"
   ]
  },
  {
   "cell_type": "markdown",
   "metadata": {},
   "source": [
    "- When Python reads a txt file, and takes in each line it include \\n to each line"
   ]
  },
  {
   "cell_type": "markdown",
   "metadata": {},
   "source": [
    "## Searching Through a File (fixed)"
   ]
  },
  {
   "cell_type": "markdown",
   "metadata": {},
   "source": [
    "- We can strip the whitespace from the "
   ]
  },
  {
   "cell_type": "markdown",
   "metadata": {},
   "source": [
    "### Using (in) to Select Line "
   ]
  },
  {
   "cell_type": "markdown",
   "metadata": {},
   "source": [
    "- We can look for a string anywhere in or line as our selection critical"
   ]
  },
  {
   "cell_type": "code",
   "execution_count": 26,
   "metadata": {},
   "outputs": [
    {
     "name": "stdout",
     "output_type": "stream",
     "text": [
      "eortega58@yahoo.com\n",
      "\n",
      "eabelortega@gmail.com\n",
      "\n",
      "genderbottle_22@gmail.com\n",
      "\n",
      "rayorojo@riseup.net\n",
      "\n",
      "jadedocelot@gmail.com\n",
      "\n",
      "receivingjest@gmail.com \n",
      "\n",
      "\n",
      "\n",
      "This list consists of emails that I have created in the past\n",
      "\n",
      "\n",
      "\n",
      "We have locted 1 option in your search\n"
     ]
    }
   ],
   "source": [
    "emailList = open ('mbox.txt')\n",
    "count = 0 \n",
    "for line in emailList:\n",
    "    if line.startswith('genderbottle'):\n",
    "        count = count + 1\n",
    "    print(line)\n",
    "print(\"We have locted\", count, \"option in your search\")\n"
   ]
  },
  {
   "cell_type": "markdown",
   "metadata": {},
   "source": [
    " - The example above searches through then mbox file in our directory and looks for lines that start with \"genderbottle\" and adds a 1 to our \"count\" variable, as well as print out all the lines within that txt file"
   ]
  },
  {
   "cell_type": "code",
   "execution_count": 3,
   "metadata": {},
   "outputs": [
    {
     "name": "stdout",
     "output_type": "stream",
     "text": [
      "what file would you like to check?mbox.txt\n",
      "\n",
      " eortega58@yahoo.com\n",
      "\n",
      "\n",
      " eabelortega@gmail.com\n",
      "\n",
      "We have locted 2 option in your search\n"
     ]
    }
   ],
   "source": [
    "fname = input('what file would you like to check?')\n",
    "\n",
    "try:\n",
    "    fname = open(fname)\n",
    "except:\n",
    "    print(\"Can't find file in directory, please try again\")\n",
    "    \n",
    "count = 0\n",
    "\n",
    "for line in fname:\n",
    "    if line.startswith(\"e\"):\n",
    "        count = count + 1\n",
    "        print(\"\\n\",line)\n",
    "print(\"We have locted\", count, \"option in your search\")"
   ]
  },
  {
   "cell_type": "markdown",
   "metadata": {},
   "source": [
    "In the example above we ask the user to input a file they would like to search, if file is not in directory then they will see a \"Cant find\" error message. If file is located then lines which include specific keywords add 1 to count. "
   ]
  },
  {
   "cell_type": "code",
   "execution_count": null,
   "metadata": {},
   "outputs": [],
   "source": []
  },
  {
   "cell_type": "code",
   "execution_count": null,
   "metadata": {},
   "outputs": [],
   "source": []
  }
 ],
 "metadata": {
  "kernelspec": {
   "display_name": "Python 3",
   "language": "python",
   "name": "python3"
  },
  "language_info": {
   "codemirror_mode": {
    "name": "ipython",
    "version": 3
   },
   "file_extension": ".py",
   "mimetype": "text/x-python",
   "name": "python",
   "nbconvert_exporter": "python",
   "pygments_lexer": "ipython3",
   "version": "3.7.6"
  }
 },
 "nbformat": 4,
 "nbformat_minor": 4
}
