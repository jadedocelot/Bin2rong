{
 "cells": [
  {
   "cell_type": "markdown",
   "metadata": {},
   "source": [
    "### Programming is a sequence of instructions"
   ]
  },
  {
   "cell_type": "markdown",
   "metadata": {},
   "source": [
    "- When thinking about a (sequence) of python syntax, think about the lyrics to The Macarena"
   ]
  },
  {
   "cell_type": "markdown",
   "metadata": {},
   "source": [
    "<img src = \"https://i.pinimg.com/originals/18/8d/47/188d474dc30485e7b2d79fe138bd0964.jpg\">"
   ]
  },
  {
   "cell_type": "markdown",
   "metadata": {},
   "source": [
    "### Hardware"
   ]
  },
  {
   "cell_type": "markdown",
   "metadata": {},
   "source": [
    "Hardware knowledge is obviously a big requirement for anyone studying computer science but in the meantime lets focus on the 3 main componnents. Hard Drive, RAM, and CPU "
   ]
  },
  {
   "cell_type": "markdown",
   "metadata": {},
   "source": [
    "<img src=\"https://slideplayer.com/slide/7765536/25/images/7/The+CPU%2C+RAM+and+I%2FO+Devices.jpg\">"
   ]
  },
  {
   "cell_type": "markdown",
   "metadata": {},
   "source": [
    "### CPU"
   ]
  },
  {
   "cell_type": "markdown",
   "metadata": {},
   "source": [
    "The CPU is considered the \"BRAIN\" of the computer, for it is the CPU the processe all the information received and at a ridiculous speed."
   ]
  },
  {
   "cell_type": "markdown",
   "metadata": {},
   "source": [
    "### RAM"
   ]
  },
  {
   "cell_type": "markdown",
   "metadata": {},
   "source": [
    "Ram is used the information awaiting to be proccessed. It is the main source of memory and play a crucial role in storing custom system and OS"
   ]
  },
  {
   "cell_type": "markdown",
   "metadata": {},
   "source": [
    "### Hard Drive"
   ]
  },
  {
   "cell_type": "markdown",
   "metadata": {},
   "source": [
    "The HD acts as the secondary stores the software/programs that the RAM will run"
   ]
  },
  {
   "cell_type": "markdown",
   "metadata": {},
   "source": [
    "### <span style=\"color:red\">How an OS works</span> "
   ]
  },
  {
   "cell_type": "markdown",
   "metadata": {},
   "source": [
    "The OS is stored into the HD, and when ready to run is then moved over to the RAM which will run the OS and prep it for proccessing for the CPU, once running, the OS is now being processed by the CPU at a RIDICULOUS speed."
   ]
  },
  {
   "cell_type": "markdown",
   "metadata": {},
   "source": [
    "### <span style=\"color:blue\">Python as a Language</span>"
   ]
  },
  {
   "cell_type": "markdown",
   "metadata": {},
   "source": [
    "    - Pyhton was created by Guide Van Rossum\n",
    "    - Name was inspired by Monty Pythons Flying Circus\n",
    "    - (>>>) are refered to as the \"3 Cheveron Prompt\"\n",
    "    - PYthon is an interpreted programming language, that will be taken in by the CPU as Machine Language (which consists of only 1 and 0)"
   ]
  },
  {
   "cell_type": "markdown",
   "metadata": {},
   "source": [
    "### Elements of Python"
   ]
  },
  {
   "cell_type": "markdown",
   "metadata": {},
   "source": [
    "    * Vocab/words - variables and reserved words"
   ]
  },
  {
   "cell_type": "markdown",
   "metadata": {},
   "source": [
    "    * Sentence Structure - valid syntax patterns"
   ]
  },
  {
   "cell_type": "markdown",
   "metadata": {},
   "source": [
    "    * Story structure - constructing a program with a purpose"
   ]
  },
  {
   "cell_type": "markdown",
   "metadata": {},
   "source": [
    "## Reserved Words"
   ]
  },
  {
   "cell_type": "markdown",
   "metadata": {},
   "source": [
    "You cannot use reserved words as variable names/identifiers"
   ]
  },
  {
   "cell_type": "markdown",
   "metadata": {},
   "source": [
    "- false\n",
    "- none\n",
    "- true \n",
    "- and\n",
    "- as \n",
    "- assert \n",
    "- break \n",
    "- class \n",
    "- if \n",
    "- def \n",
    "- del \n",
    "- elif\n",
    "- else \n",
    "- except \n",
    "- return \n",
    "- for \n",
    "- from \n",
    "- global\n",
    "- try \n",
    "- import\n",
    "- in \n",
    "- is \n",
    "- lambda \n",
    "- while \n",
    "- not \n",
    "- or \n",
    "- pass\n",
    "- raise\n",
    "- finding\n",
    "- with \n",
    "- yield\n",
    "- continue"
   ]
  },
  {
   "cell_type": "markdown",
   "metadata": {},
   "source": [
    "## Python perpective"
   ]
  },
  {
   "cell_type": "markdown",
   "metadata": {},
   "source": [
    "Reserved words are words that Pyhton can immediately identify, aside from these words Python will view everythin else as though it were a new language "
   ]
  },
  {
   "cell_type": "code",
   "execution_count": 5,
   "metadata": {},
   "outputs": [
    {
     "ename": "SyntaxError",
     "evalue": "invalid syntax (<ipython-input-5-5133577c7c7e>, line 1)",
     "output_type": "error",
     "traceback": [
      "\u001b[0;36m  File \u001b[0;32m\"<ipython-input-5-5133577c7c7e>\"\u001b[0;36m, line \u001b[0;32m1\u001b[0m\n\u001b[0;31m    def ______\u001b[0m\n\u001b[0m              ^\u001b[0m\n\u001b[0;31mSyntaxError\u001b[0m\u001b[0;31m:\u001b[0m invalid syntax\n"
     ]
    }
   ],
   "source": [
    "def ______\n",
    "\n",
    "if _-__false \n",
    "return__-___\n",
    "else___\n",
    "print______"
   ]
  },
  {
   "cell_type": "markdown",
   "metadata": {},
   "source": [
    "## Sentence Lines"
   ]
  },
  {
   "cell_type": "markdown",
   "metadata": {},
   "source": [
    "x = 2 < - Assignment state <- Variables"
   ]
  },
  {
   "cell_type": "markdown",
   "metadata": {},
   "source": [
    "x = x + 2 <- Assign wiht exp"
   ]
  },
  {
   "cell_type": "markdown",
   "metadata": {},
   "source": [
    "print(x) <- print state"
   ]
  },
  {
   "cell_type": "code",
   "execution_count": 6,
   "metadata": {},
   "outputs": [
    {
     "ename": "SyntaxError",
     "evalue": "invalid syntax (<ipython-input-6-27a2d48f282d>, line 2)",
     "output_type": "error",
     "traceback": [
      "\u001b[0;36m  File \u001b[0;32m\"<ipython-input-6-27a2d48f282d>\"\u001b[0;36m, line \u001b[0;32m2\u001b[0m\n\u001b[0;31m    opperator = =,+\u001b[0m\n\u001b[0m                ^\u001b[0m\n\u001b[0;31mSyntaxError\u001b[0m\u001b[0;31m:\u001b[0m invalid syntax\n"
     ]
    }
   ],
   "source": [
    "var = x \n",
    "opperator = =,+\n",
    "reserve = print()"
   ]
  },
  {
   "cell_type": "markdown",
   "metadata": {},
   "source": [
    "## Interactive vs Script\n",
    "\n",
    "##### When typing directly into the python program, you are required to enter in the syntax one line at a time (perfect for testing out code)"
   ]
  },
  {
   "cell_type": "markdown",
   "metadata": {},
   "source": [
    "When using SCRIPT, You enter a sequence of statements (lines) into a file  using a Text Editor i.e. Sublime or Vim and tell Python to execute the statements in a file."
   ]
  },
  {
   "cell_type": "markdown",
   "metadata": {},
   "source": [
    "## Program Steps or Program Flows"
   ]
  },
  {
   "cell_type": "markdown",
   "metadata": {},
   "source": [
    "- Conditional: May skip steps \n",
    "- Sequence: \"Do this, then this, and then this\"\n",
    "- Repeated: Over and over and over, and over ....."
   ]
  },
  {
   "cell_type": "markdown",
   "metadata": {},
   "source": [
    "## Sequence Steps"
   ]
  },
  {
   "cell_type": "code",
   "execution_count": 8,
   "metadata": {},
   "outputs": [
    {
     "name": "stdout",
     "output_type": "stream",
     "text": [
      "4\n",
      "16\n"
     ]
    }
   ],
   "source": [
    "x = 4 # Store the value of 4 into x\n",
    "print(x) # Then print x\n",
    "x = x * 4 # Now store a new value of x * 4 into x \n",
    "print(x) # print out X s new value"
   ]
  },
  {
   "cell_type": "markdown",
   "metadata": {},
   "source": [
    "## Conditional steps"
   ]
  },
  {
   "cell_type": "code",
   "execution_count": 11,
   "metadata": {},
   "outputs": [
    {
     "name": "stdout",
     "output_type": "stream",
     "text": [
      "x is smaller\n",
      "\n",
      "|This is the end of my conditional code|\n",
      "\n"
     ]
    }
   ],
   "source": [
    "x  = 15         # Store the value of 15 into x (which is then strored into the RAM) \n",
    "\n",
    "if x < 20:      # if x is smaller than 20 print out LINE 4\n",
    "\tprint(\"x is smaller\")\n",
    "elif x > 20:    # Though if x is larger tha than 20 skip LINE 4 and print LINE 6 \n",
    "\tprint(\"x is bigger\")\n",
    "print(\"\\n|This is the end of my conditional code|\\n\") # CLOSING LINE"
   ]
  },
  {
   "cell_type": "markdown",
   "metadata": {},
   "source": [
    "## Repearted Steps"
   ]
  },
  {
   "cell_type": "code",
   "execution_count": 14,
   "metadata": {},
   "outputs": [
    {
     "name": "stdout",
     "output_type": "stream",
     "text": [
      "10\n",
      "9\n",
      "8\n",
      "7\n",
      "6\n",
      "5\n",
      "4\n",
      "3\n",
      "2\n",
      "1\n",
      "BLAST OFF!\n"
     ]
    }
   ],
   "source": [
    "x = 10 \n",
    "while x > 0: # while x is less than zero, count down from 10 to exit cycle\n",
    "\tprint(x)\n",
    "\tx = x -1 # Line 4 will decrement from 10 until zero is reached\n",
    "print(\"BLAST OFF!\")  # LINE 5 will print once zero is reached \n",
    "\n",
    "\n",
    "# NOTE: that only 10-1 will print out, 0 is not shown"
   ]
  }
 ],
 "metadata": {
  "kernelspec": {
   "display_name": "Python 3",
   "language": "python",
   "name": "python3"
  },
  "language_info": {
   "codemirror_mode": {
    "name": "ipython",
    "version": 3
   },
   "file_extension": ".py",
   "mimetype": "text/x-python",
   "name": "python",
   "nbconvert_exporter": "python",
   "pygments_lexer": "ipython3",
   "version": "3.7.6"
  }
 },
 "nbformat": 4,
 "nbformat_minor": 4
}
